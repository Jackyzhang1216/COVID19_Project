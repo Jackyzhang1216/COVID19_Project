{
 "cells": [
  {
   "cell_type": "markdown",
   "metadata": {},
   "source": [
    "# Final Project \n",
    "================================================================================================================"
   ]
  },
  {
   "cell_type": "markdown",
   "metadata": {},
   "source": [
    "**TEAM**: Star Li, Zheng Zhang, Stefan Li"
   ]
  },
  {
   "cell_type": "markdown",
   "metadata": {},
   "source": [
    "## Setup"
   ]
  },
  {
   "cell_type": "code",
   "execution_count": 1,
   "metadata": {},
   "outputs": [],
   "source": [
    "import numpy as np\n",
    "import pandas as pd\n",
    "\n",
    "import matplotlib.pyplot as plt\n",
    "%matplotlib inline\n",
    "\n",
    "import seaborn as sns\n",
    "sns.set(style = \"whitegrid\", \n",
    "        color_codes = True,\n",
    "        font_scale = 1.5)\n",
    "\n",
    "from sklearn.feature_selection import SelectFromModel\n",
    "from sklearn.model_selection import train_test_split, KFold\n",
    "from sklearn.linear_model import LassoCV, LinearRegression, Ridge, Lasso\n",
    "from sklearn.tree import DecisionTreeRegressor\n",
    "from sklearn.ensemble import AdaBoostRegressor, ExtraTreesRegressor, RandomForestRegressor\n",
    "from sklearn.neighbors import KNeighborsRegressor"
   ]
  },
  {
   "cell_type": "markdown",
   "metadata": {},
   "source": [
    "### Loading in the Data"
   ]
  },
  {
   "cell_type": "code",
   "execution_count": 2,
   "metadata": {},
   "outputs": [],
   "source": [
    "data_state = pd.read_csv('final_proj_data/covid19/4.18states.csv')\n",
    "data_counties = pd.read_csv('final_proj_data/covid19/abridged_couties.csv')\n",
    "data_time_conf = pd.read_csv('final_proj_data/covid19/time_series_covid19_confirmed_US.csv')\n",
    "data_time_de = pd.read_csv('final_proj_data/covid19/time_series_covid19_deaths_US.csv')"
   ]
  },
  {
   "cell_type": "markdown",
   "metadata": {},
   "source": [
    "## Data Cleaning"
   ]
  },
  {
   "cell_type": "code",
   "execution_count": 3,
   "metadata": {},
   "outputs": [
    {
     "data": {
      "text/html": [
       "<div>\n",
       "<style scoped>\n",
       "    .dataframe tbody tr th:only-of-type {\n",
       "        vertical-align: middle;\n",
       "    }\n",
       "\n",
       "    .dataframe tbody tr th {\n",
       "        vertical-align: top;\n",
       "    }\n",
       "\n",
       "    .dataframe thead th {\n",
       "        text-align: right;\n",
       "    }\n",
       "</style>\n",
       "<table border=\"1\" class=\"dataframe\">\n",
       "  <thead>\n",
       "    <tr style=\"text-align: right;\">\n",
       "      <th></th>\n",
       "      <th>Province_State</th>\n",
       "      <th>Country_Region</th>\n",
       "      <th>Last_Update</th>\n",
       "      <th>Lat</th>\n",
       "      <th>Long</th>\n",
       "      <th>Confirmed</th>\n",
       "      <th>Deaths</th>\n",
       "      <th>Recovered</th>\n",
       "      <th>Active</th>\n",
       "      <th>FIPS</th>\n",
       "      <th>Incident_Rate</th>\n",
       "      <th>People_Tested</th>\n",
       "      <th>People_Hospitalized</th>\n",
       "      <th>Mortality_Rate</th>\n",
       "      <th>UID</th>\n",
       "      <th>ISO3</th>\n",
       "      <th>Testing_Rate</th>\n",
       "      <th>Hospitalization_Rate</th>\n",
       "    </tr>\n",
       "  </thead>\n",
       "  <tbody>\n",
       "    <tr>\n",
       "      <th>0</th>\n",
       "      <td>Alabama</td>\n",
       "      <td>US</td>\n",
       "      <td>2020-04-18 22:32:47</td>\n",
       "      <td>32.3182</td>\n",
       "      <td>-86.9023</td>\n",
       "      <td>4712</td>\n",
       "      <td>153</td>\n",
       "      <td>NaN</td>\n",
       "      <td>4559.0</td>\n",
       "      <td>1.0</td>\n",
       "      <td>100.492717</td>\n",
       "      <td>42538.0</td>\n",
       "      <td>620.0</td>\n",
       "      <td>3.247029</td>\n",
       "      <td>84000001</td>\n",
       "      <td>USA</td>\n",
       "      <td>907.206961</td>\n",
       "      <td>13.157895</td>\n",
       "    </tr>\n",
       "    <tr>\n",
       "      <th>1</th>\n",
       "      <td>Alaska</td>\n",
       "      <td>US</td>\n",
       "      <td>2020-04-18 22:32:47</td>\n",
       "      <td>61.3707</td>\n",
       "      <td>-152.4044</td>\n",
       "      <td>314</td>\n",
       "      <td>9</td>\n",
       "      <td>147.0</td>\n",
       "      <td>305.0</td>\n",
       "      <td>2.0</td>\n",
       "      <td>52.530410</td>\n",
       "      <td>9655.0</td>\n",
       "      <td>39.0</td>\n",
       "      <td>2.866242</td>\n",
       "      <td>84000002</td>\n",
       "      <td>USA</td>\n",
       "      <td>1615.226458</td>\n",
       "      <td>12.420382</td>\n",
       "    </tr>\n",
       "    <tr>\n",
       "      <th>2</th>\n",
       "      <td>American Samoa</td>\n",
       "      <td>US</td>\n",
       "      <td>NaN</td>\n",
       "      <td>-14.2710</td>\n",
       "      <td>-170.1320</td>\n",
       "      <td>0</td>\n",
       "      <td>0</td>\n",
       "      <td>NaN</td>\n",
       "      <td>NaN</td>\n",
       "      <td>60.0</td>\n",
       "      <td>0.000000</td>\n",
       "      <td>3.0</td>\n",
       "      <td>NaN</td>\n",
       "      <td>NaN</td>\n",
       "      <td>16</td>\n",
       "      <td>ASM</td>\n",
       "      <td>5.391708</td>\n",
       "      <td>NaN</td>\n",
       "    </tr>\n",
       "    <tr>\n",
       "      <th>3</th>\n",
       "      <td>Arizona</td>\n",
       "      <td>US</td>\n",
       "      <td>2020-04-18 22:32:47</td>\n",
       "      <td>33.7298</td>\n",
       "      <td>-111.4312</td>\n",
       "      <td>4724</td>\n",
       "      <td>180</td>\n",
       "      <td>539.0</td>\n",
       "      <td>4544.0</td>\n",
       "      <td>4.0</td>\n",
       "      <td>64.901548</td>\n",
       "      <td>51045.0</td>\n",
       "      <td>566.0</td>\n",
       "      <td>3.810330</td>\n",
       "      <td>84000004</td>\n",
       "      <td>USA</td>\n",
       "      <td>701.291175</td>\n",
       "      <td>11.981372</td>\n",
       "    </tr>\n",
       "    <tr>\n",
       "      <th>4</th>\n",
       "      <td>Arkansas</td>\n",
       "      <td>US</td>\n",
       "      <td>2020-04-18 22:32:47</td>\n",
       "      <td>34.9697</td>\n",
       "      <td>-92.3731</td>\n",
       "      <td>1744</td>\n",
       "      <td>38</td>\n",
       "      <td>703.0</td>\n",
       "      <td>1706.0</td>\n",
       "      <td>5.0</td>\n",
       "      <td>67.361213</td>\n",
       "      <td>24141.0</td>\n",
       "      <td>291.0</td>\n",
       "      <td>2.178899</td>\n",
       "      <td>84000005</td>\n",
       "      <td>USA</td>\n",
       "      <td>932.435235</td>\n",
       "      <td>16.685780</td>\n",
       "    </tr>\n",
       "  </tbody>\n",
       "</table>\n",
       "</div>"
      ],
      "text/plain": [
       "   Province_State Country_Region          Last_Update      Lat      Long  \\\n",
       "0         Alabama             US  2020-04-18 22:32:47  32.3182  -86.9023   \n",
       "1          Alaska             US  2020-04-18 22:32:47  61.3707 -152.4044   \n",
       "2  American Samoa             US                  NaN -14.2710 -170.1320   \n",
       "3         Arizona             US  2020-04-18 22:32:47  33.7298 -111.4312   \n",
       "4        Arkansas             US  2020-04-18 22:32:47  34.9697  -92.3731   \n",
       "\n",
       "   Confirmed  Deaths  Recovered  Active  FIPS  Incident_Rate  People_Tested  \\\n",
       "0       4712     153        NaN  4559.0   1.0     100.492717        42538.0   \n",
       "1        314       9      147.0   305.0   2.0      52.530410         9655.0   \n",
       "2          0       0        NaN     NaN  60.0       0.000000            3.0   \n",
       "3       4724     180      539.0  4544.0   4.0      64.901548        51045.0   \n",
       "4       1744      38      703.0  1706.0   5.0      67.361213        24141.0   \n",
       "\n",
       "   People_Hospitalized  Mortality_Rate       UID ISO3  Testing_Rate  \\\n",
       "0                620.0        3.247029  84000001  USA    907.206961   \n",
       "1                 39.0        2.866242  84000002  USA   1615.226458   \n",
       "2                  NaN             NaN        16  ASM      5.391708   \n",
       "3                566.0        3.810330  84000004  USA    701.291175   \n",
       "4                291.0        2.178899  84000005  USA    932.435235   \n",
       "\n",
       "   Hospitalization_Rate  \n",
       "0             13.157895  \n",
       "1             12.420382  \n",
       "2                   NaN  \n",
       "3             11.981372  \n",
       "4             16.685780  "
      ]
     },
     "execution_count": 3,
     "metadata": {},
     "output_type": "execute_result"
    }
   ],
   "source": [
    "# - Based on our fist look at the data as well as the objective of our project, \n",
    "# we decided to work with only the U.S. data since we have the most specific data \n",
    "# regarding all the cases in the U.S. \n",
    "data_state = data_state.loc[data_state['Country_Region'] == 'US']\n",
    "data_state = data_state.rename(columns={\"Long_\": \"Long\"})\n",
    "\n",
    "data_state.head(5)"
   ]
  },
  {
   "cell_type": "markdown",
   "metadata": {},
   "source": [
    "### 1. \"4.18state\""
   ]
  },
  {
   "cell_type": "code",
   "execution_count": 4,
   "metadata": {},
   "outputs": [
    {
     "data": {
      "text/html": [
       "<div>\n",
       "<style scoped>\n",
       "    .dataframe tbody tr th:only-of-type {\n",
       "        vertical-align: middle;\n",
       "    }\n",
       "\n",
       "    .dataframe tbody tr th {\n",
       "        vertical-align: top;\n",
       "    }\n",
       "\n",
       "    .dataframe thead th {\n",
       "        text-align: right;\n",
       "    }\n",
       "</style>\n",
       "<table border=\"1\" class=\"dataframe\">\n",
       "  <thead>\n",
       "    <tr style=\"text-align: right;\">\n",
       "      <th></th>\n",
       "      <th>Province_State</th>\n",
       "      <th>Country_Region</th>\n",
       "      <th>Last_Update</th>\n",
       "      <th>Lat</th>\n",
       "      <th>Long</th>\n",
       "      <th>Confirmed</th>\n",
       "      <th>Deaths</th>\n",
       "      <th>Recovered</th>\n",
       "      <th>Active</th>\n",
       "      <th>FIPS</th>\n",
       "      <th>Incident_Rate</th>\n",
       "      <th>People_Tested</th>\n",
       "      <th>People_Hospitalized</th>\n",
       "      <th>Mortality_Rate</th>\n",
       "      <th>UID</th>\n",
       "      <th>ISO3</th>\n",
       "      <th>Testing_Rate</th>\n",
       "      <th>Hospitalization_Rate</th>\n",
       "    </tr>\n",
       "  </thead>\n",
       "  <tbody>\n",
       "    <tr>\n",
       "      <th>9</th>\n",
       "      <td>Diamond Princess</td>\n",
       "      <td>US</td>\n",
       "      <td>2020-04-18 22:32:47</td>\n",
       "      <td>NaN</td>\n",
       "      <td>NaN</td>\n",
       "      <td>49</td>\n",
       "      <td>0</td>\n",
       "      <td>0.0</td>\n",
       "      <td>49.0</td>\n",
       "      <td>88888.0</td>\n",
       "      <td>NaN</td>\n",
       "      <td>NaN</td>\n",
       "      <td>NaN</td>\n",
       "      <td>0.0</td>\n",
       "      <td>84088888</td>\n",
       "      <td>USA</td>\n",
       "      <td>NaN</td>\n",
       "      <td>NaN</td>\n",
       "    </tr>\n",
       "    <tr>\n",
       "      <th>13</th>\n",
       "      <td>Grand Princess</td>\n",
       "      <td>US</td>\n",
       "      <td>2020-04-18 22:32:47</td>\n",
       "      <td>NaN</td>\n",
       "      <td>NaN</td>\n",
       "      <td>103</td>\n",
       "      <td>0</td>\n",
       "      <td>0.0</td>\n",
       "      <td>103.0</td>\n",
       "      <td>99999.0</td>\n",
       "      <td>NaN</td>\n",
       "      <td>NaN</td>\n",
       "      <td>NaN</td>\n",
       "      <td>0.0</td>\n",
       "      <td>84099999</td>\n",
       "      <td>USA</td>\n",
       "      <td>NaN</td>\n",
       "      <td>NaN</td>\n",
       "    </tr>\n",
       "    <tr>\n",
       "      <th>116</th>\n",
       "      <td>Recovered</td>\n",
       "      <td>US</td>\n",
       "      <td>NaN</td>\n",
       "      <td>NaN</td>\n",
       "      <td>NaN</td>\n",
       "      <td>0</td>\n",
       "      <td>0</td>\n",
       "      <td>64840.0</td>\n",
       "      <td>-64840.0</td>\n",
       "      <td>NaN</td>\n",
       "      <td>NaN</td>\n",
       "      <td>NaN</td>\n",
       "      <td>NaN</td>\n",
       "      <td>NaN</td>\n",
       "      <td>84070001</td>\n",
       "      <td>USA</td>\n",
       "      <td>NaN</td>\n",
       "      <td>NaN</td>\n",
       "    </tr>\n",
       "  </tbody>\n",
       "</table>\n",
       "</div>"
      ],
      "text/plain": [
       "       Province_State Country_Region          Last_Update  Lat  Long  \\\n",
       "9    Diamond Princess             US  2020-04-18 22:32:47  NaN   NaN   \n",
       "13     Grand Princess             US  2020-04-18 22:32:47  NaN   NaN   \n",
       "116         Recovered             US                  NaN  NaN   NaN   \n",
       "\n",
       "     Confirmed  Deaths  Recovered   Active     FIPS  Incident_Rate  \\\n",
       "9           49       0        0.0     49.0  88888.0            NaN   \n",
       "13         103       0        0.0    103.0  99999.0            NaN   \n",
       "116          0       0    64840.0 -64840.0      NaN            NaN   \n",
       "\n",
       "     People_Tested  People_Hospitalized  Mortality_Rate       UID ISO3  \\\n",
       "9              NaN                  NaN             0.0  84088888  USA   \n",
       "13             NaN                  NaN             0.0  84099999  USA   \n",
       "116            NaN                  NaN             NaN  84070001  USA   \n",
       "\n",
       "     Testing_Rate  Hospitalization_Rate  \n",
       "9             NaN                   NaN  \n",
       "13            NaN                   NaN  \n",
       "116           NaN                   NaN  "
      ]
     },
     "execution_count": 4,
     "metadata": {},
     "output_type": "execute_result"
    }
   ],
   "source": [
    "# fist divide the data into edge case (e.g. Diamond Princess that does not have lat and long) and general cases\n",
    "\n",
    "edge_case = data_state[data_state['Lat'].isnull()]\n",
    "edge_case.head(10)"
   ]
  },
  {
   "cell_type": "code",
   "execution_count": 5,
   "metadata": {},
   "outputs": [],
   "source": [
    "# Notice that there are only three cases in the edge_case category, and those are very specially cases \n",
    "# such as \"Diamond Princess\" and \"Grand Princess\", and the are clearly not a good representation of regional cases.\n",
    "#So, we can safely drop these columns from our main focuse\n",
    "\n",
    "general_state = data_state[data_state['Lat'].notnull()]"
   ]
  },
  {
   "cell_type": "markdown",
   "metadata": {},
   "source": [
    "#### Cleaning up NaN values"
   ]
  },
  {
   "cell_type": "code",
   "execution_count": 6,
   "metadata": {},
   "outputs": [
    {
     "data": {
      "text/html": [
       "<div>\n",
       "<style scoped>\n",
       "    .dataframe tbody tr th:only-of-type {\n",
       "        vertical-align: middle;\n",
       "    }\n",
       "\n",
       "    .dataframe tbody tr th {\n",
       "        vertical-align: top;\n",
       "    }\n",
       "\n",
       "    .dataframe thead th {\n",
       "        text-align: right;\n",
       "    }\n",
       "</style>\n",
       "<table border=\"1\" class=\"dataframe\">\n",
       "  <thead>\n",
       "    <tr style=\"text-align: right;\">\n",
       "      <th></th>\n",
       "      <th>Province_State</th>\n",
       "      <th>Country_Region</th>\n",
       "      <th>Last_Update</th>\n",
       "      <th>Lat</th>\n",
       "      <th>Long</th>\n",
       "      <th>Confirmed</th>\n",
       "      <th>Deaths</th>\n",
       "      <th>Recovered</th>\n",
       "      <th>Active</th>\n",
       "      <th>FIPS</th>\n",
       "      <th>Incident_Rate</th>\n",
       "      <th>People_Tested</th>\n",
       "      <th>People_Hospitalized</th>\n",
       "      <th>Mortality_Rate</th>\n",
       "      <th>UID</th>\n",
       "      <th>ISO3</th>\n",
       "      <th>Testing_Rate</th>\n",
       "      <th>Hospitalization_Rate</th>\n",
       "    </tr>\n",
       "  </thead>\n",
       "  <tbody>\n",
       "    <tr>\n",
       "      <th>0</th>\n",
       "      <td>Alabama</td>\n",
       "      <td>US</td>\n",
       "      <td>2020-04-18 22:32:47</td>\n",
       "      <td>32.3182</td>\n",
       "      <td>-86.9023</td>\n",
       "      <td>4712</td>\n",
       "      <td>153</td>\n",
       "      <td>NaN</td>\n",
       "      <td>4559.0</td>\n",
       "      <td>1.0</td>\n",
       "      <td>100.492717</td>\n",
       "      <td>42538.0</td>\n",
       "      <td>620.0</td>\n",
       "      <td>3.247029</td>\n",
       "      <td>84000001</td>\n",
       "      <td>USA</td>\n",
       "      <td>907.206961</td>\n",
       "      <td>13.157895</td>\n",
       "    </tr>\n",
       "    <tr>\n",
       "      <th>2</th>\n",
       "      <td>American Samoa</td>\n",
       "      <td>US</td>\n",
       "      <td>NaN</td>\n",
       "      <td>-14.2710</td>\n",
       "      <td>-170.1320</td>\n",
       "      <td>0</td>\n",
       "      <td>0</td>\n",
       "      <td>NaN</td>\n",
       "      <td>NaN</td>\n",
       "      <td>60.0</td>\n",
       "      <td>0.000000</td>\n",
       "      <td>3.0</td>\n",
       "      <td>NaN</td>\n",
       "      <td>NaN</td>\n",
       "      <td>16</td>\n",
       "      <td>ASM</td>\n",
       "      <td>5.391708</td>\n",
       "      <td>NaN</td>\n",
       "    </tr>\n",
       "    <tr>\n",
       "      <th>5</th>\n",
       "      <td>California</td>\n",
       "      <td>US</td>\n",
       "      <td>2020-04-18 22:32:47</td>\n",
       "      <td>36.1162</td>\n",
       "      <td>-119.6816</td>\n",
       "      <td>30491</td>\n",
       "      <td>1140</td>\n",
       "      <td>NaN</td>\n",
       "      <td>29351.0</td>\n",
       "      <td>6.0</td>\n",
       "      <td>77.766063</td>\n",
       "      <td>251614.0</td>\n",
       "      <td>4892.0</td>\n",
       "      <td>3.738808</td>\n",
       "      <td>84000006</td>\n",
       "      <td>USA</td>\n",
       "      <td>641.731334</td>\n",
       "      <td>16.044079</td>\n",
       "    </tr>\n",
       "    <tr>\n",
       "      <th>6</th>\n",
       "      <td>Colorado</td>\n",
       "      <td>US</td>\n",
       "      <td>2020-04-18 22:32:47</td>\n",
       "      <td>39.0598</td>\n",
       "      <td>-105.3111</td>\n",
       "      <td>9047</td>\n",
       "      <td>389</td>\n",
       "      <td>NaN</td>\n",
       "      <td>8658.0</td>\n",
       "      <td>8.0</td>\n",
       "      <td>159.648818</td>\n",
       "      <td>43307.0</td>\n",
       "      <td>1755.0</td>\n",
       "      <td>4.299768</td>\n",
       "      <td>84000008</td>\n",
       "      <td>USA</td>\n",
       "      <td>764.221442</td>\n",
       "      <td>19.398696</td>\n",
       "    </tr>\n",
       "    <tr>\n",
       "      <th>7</th>\n",
       "      <td>Connecticut</td>\n",
       "      <td>US</td>\n",
       "      <td>2020-04-18 22:32:47</td>\n",
       "      <td>41.5978</td>\n",
       "      <td>-72.7554</td>\n",
       "      <td>17550</td>\n",
       "      <td>1086</td>\n",
       "      <td>NaN</td>\n",
       "      <td>16464.0</td>\n",
       "      <td>9.0</td>\n",
       "      <td>492.246487</td>\n",
       "      <td>55462.0</td>\n",
       "      <td>1946.0</td>\n",
       "      <td>6.188034</td>\n",
       "      <td>84000009</td>\n",
       "      <td>USA</td>\n",
       "      <td>1555.611091</td>\n",
       "      <td>11.088319</td>\n",
       "    </tr>\n",
       "  </tbody>\n",
       "</table>\n",
       "</div>"
      ],
      "text/plain": [
       "   Province_State Country_Region          Last_Update      Lat      Long  \\\n",
       "0         Alabama             US  2020-04-18 22:32:47  32.3182  -86.9023   \n",
       "2  American Samoa             US                  NaN -14.2710 -170.1320   \n",
       "5      California             US  2020-04-18 22:32:47  36.1162 -119.6816   \n",
       "6        Colorado             US  2020-04-18 22:32:47  39.0598 -105.3111   \n",
       "7     Connecticut             US  2020-04-18 22:32:47  41.5978  -72.7554   \n",
       "\n",
       "   Confirmed  Deaths  Recovered   Active  FIPS  Incident_Rate  People_Tested  \\\n",
       "0       4712     153        NaN   4559.0   1.0     100.492717        42538.0   \n",
       "2          0       0        NaN      NaN  60.0       0.000000            3.0   \n",
       "5      30491    1140        NaN  29351.0   6.0      77.766063       251614.0   \n",
       "6       9047     389        NaN   8658.0   8.0     159.648818        43307.0   \n",
       "7      17550    1086        NaN  16464.0   9.0     492.246487        55462.0   \n",
       "\n",
       "   People_Hospitalized  Mortality_Rate       UID ISO3  Testing_Rate  \\\n",
       "0                620.0        3.247029  84000001  USA    907.206961   \n",
       "2                  NaN             NaN        16  ASM      5.391708   \n",
       "5               4892.0        3.738808  84000006  USA    641.731334   \n",
       "6               1755.0        4.299768  84000008  USA    764.221442   \n",
       "7               1946.0        6.188034  84000009  USA   1555.611091   \n",
       "\n",
       "   Hospitalization_Rate  \n",
       "0             13.157895  \n",
       "2                   NaN  \n",
       "5             16.044079  \n",
       "6             19.398696  \n",
       "7             11.088319  "
      ]
     },
     "execution_count": 6,
     "metadata": {},
     "output_type": "execute_result"
    }
   ],
   "source": [
    "general_state[general_state['Recovered'].isnull()].head(5)"
   ]
  },
  {
   "cell_type": "markdown",
   "metadata": {},
   "source": [
    "- Notice that there are some NaN's columns such as \"Recovered\", \"Active\", \"Mortality_rate\", and \"Hospitalization_Rate\"\n",
    "- We know that, based on the provided README file, Active cases = total confirmed - total recovered - total deaths, we can safely fill out all the NaN's in Deaths, Recorvered, and Active with 0, since they are all mutually exclusive."
   ]
  },
  {
   "cell_type": "code",
   "execution_count": 7,
   "metadata": {},
   "outputs": [
    {
     "name": "stderr",
     "output_type": "stream",
     "text": [
      "/usr/local/lib/python3.7/site-packages/pandas/core/frame.py:3391: SettingWithCopyWarning: \n",
      "A value is trying to be set on a copy of a slice from a DataFrame.\n",
      "Try using .loc[row_indexer,col_indexer] = value instead\n",
      "\n",
      "See the caveats in the documentation: http://pandas.pydata.org/pandas-docs/stable/indexing.html#indexing-view-versus-copy\n",
      "  self[k1] = value[k2]\n"
     ]
    },
    {
     "data": {
      "text/plain": [
       "Province_State          0\n",
       "Country_Region          0\n",
       "Last_Update             1\n",
       "Lat                     0\n",
       "Long                    0\n",
       "Confirmed               0\n",
       "Deaths                  0\n",
       "Recovered               0\n",
       "Active                  0\n",
       "FIPS                    0\n",
       "Incident_Rate           0\n",
       "People_Tested           0\n",
       "People_Hospitalized     0\n",
       "Mortality_Rate          0\n",
       "UID                     0\n",
       "ISO3                    0\n",
       "Testing_Rate            0\n",
       "Hospitalization_Rate    0\n",
       "dtype: int64"
      ]
     },
     "execution_count": 7,
     "metadata": {},
     "output_type": "execute_result"
    }
   ],
   "source": [
    "general_state[['Recovered']] = general_state[['Recovered']].fillna(0)\n",
    "general_state[['Active']] = general_state[['Active']].fillna(0)\n",
    "general_state[['Mortality_Rate']] = general_state[['Mortality_Rate']].fillna(0)\n",
    "\n",
    "# Notice that US Hospitalization Rate (%): = Total number hospitalized / Number confirmed cases,\n",
    "# so if the number of People_Hospitalized is NaN or 0, \n",
    "# we can logically fill in 0 for all the NaN's in these two columns\n",
    "\n",
    "general_state[['People_Hospitalized']] = general_state[['People_Hospitalized']].fillna(0)\n",
    "general_state[['Hospitalization_Rate']] = general_state[['Hospitalization_Rate']].fillna(0)\n",
    "\n",
    "general_state.isna().sum()"
   ]
  },
  {
   "cell_type": "code",
   "execution_count": 8,
   "metadata": {
    "scrolled": true
   },
   "outputs": [
    {
     "data": {
      "text/html": [
       "<div>\n",
       "<style scoped>\n",
       "    .dataframe tbody tr th:only-of-type {\n",
       "        vertical-align: middle;\n",
       "    }\n",
       "\n",
       "    .dataframe tbody tr th {\n",
       "        vertical-align: top;\n",
       "    }\n",
       "\n",
       "    .dataframe thead th {\n",
       "        text-align: right;\n",
       "    }\n",
       "</style>\n",
       "<table border=\"1\" class=\"dataframe\">\n",
       "  <thead>\n",
       "    <tr style=\"text-align: right;\">\n",
       "      <th></th>\n",
       "      <th>Province_State</th>\n",
       "      <th>Country_Region</th>\n",
       "      <th>Last_Update</th>\n",
       "      <th>Lat</th>\n",
       "      <th>Long</th>\n",
       "      <th>Confirmed</th>\n",
       "      <th>Deaths</th>\n",
       "      <th>Recovered</th>\n",
       "      <th>Active</th>\n",
       "      <th>FIPS</th>\n",
       "      <th>Incident_Rate</th>\n",
       "      <th>People_Tested</th>\n",
       "      <th>People_Hospitalized</th>\n",
       "      <th>Mortality_Rate</th>\n",
       "      <th>UID</th>\n",
       "      <th>ISO3</th>\n",
       "      <th>Testing_Rate</th>\n",
       "      <th>Hospitalization_Rate</th>\n",
       "    </tr>\n",
       "  </thead>\n",
       "  <tbody>\n",
       "    <tr>\n",
       "      <th>2</th>\n",
       "      <td>American Samoa</td>\n",
       "      <td>US</td>\n",
       "      <td>NaN</td>\n",
       "      <td>-14.271</td>\n",
       "      <td>-170.132</td>\n",
       "      <td>0</td>\n",
       "      <td>0</td>\n",
       "      <td>0.0</td>\n",
       "      <td>0.0</td>\n",
       "      <td>60.0</td>\n",
       "      <td>0.0</td>\n",
       "      <td>3.0</td>\n",
       "      <td>0.0</td>\n",
       "      <td>0.0</td>\n",
       "      <td>16</td>\n",
       "      <td>ASM</td>\n",
       "      <td>5.391708</td>\n",
       "      <td>0.0</td>\n",
       "    </tr>\n",
       "  </tbody>\n",
       "</table>\n",
       "</div>"
      ],
      "text/plain": [
       "   Province_State Country_Region Last_Update     Lat     Long  Confirmed  \\\n",
       "2  American Samoa             US         NaN -14.271 -170.132          0   \n",
       "\n",
       "   Deaths  Recovered  Active  FIPS  Incident_Rate  People_Tested  \\\n",
       "2       0        0.0     0.0  60.0            0.0            3.0   \n",
       "\n",
       "   People_Hospitalized  Mortality_Rate  UID ISO3  Testing_Rate  \\\n",
       "2                  0.0             0.0   16  ASM      5.391708   \n",
       "\n",
       "   Hospitalization_Rate  \n",
       "2                   0.0  "
      ]
     },
     "execution_count": 8,
     "metadata": {},
     "output_type": "execute_result"
    }
   ],
   "source": [
    "#Up to this point, we see that there is only one NaN value left in the column of Last_Update\n",
    "\n",
    "general_state[general_state['Last_Update'].isnull()]"
   ]
  },
  {
   "cell_type": "code",
   "execution_count": 9,
   "metadata": {},
   "outputs": [],
   "source": [
    "# Since \"American Samoa\" has such a small number of cases, it will have relatively small effect on our prediction, \n",
    "# so we decided to remove this area to keep the consistency of our dataframe.\n",
    "\n",
    "general_state = general_state[general_state['Last_Update'].notnull()]"
   ]
  },
  {
   "cell_type": "markdown",
   "metadata": {},
   "source": [
    "### 2. Joining \"abridged_couties\" with \"time_series_covid19_confirmed_US\""
   ]
  },
  {
   "cell_type": "markdown",
   "metadata": {},
   "source": [
    "- abridged_counties contains wonderful information about population health condition as well as population demograpics, and time_series_covid19_confirmed_US has a wonderful pattern of the times series of confirms in the U.S., so it would be a lot easier to select feature from this join table rather than subseting data separately from each data set when selecting features.\n",
    "- Notice that we are not cleaning up the data for the death timeserise, as our main objective is to predict the confirmed cases of the next day."
   ]
  },
  {
   "cell_type": "code",
   "execution_count": 10,
   "metadata": {},
   "outputs": [
    {
     "data": {
      "text/html": [
       "<div>\n",
       "<style scoped>\n",
       "    .dataframe tbody tr th:only-of-type {\n",
       "        vertical-align: middle;\n",
       "    }\n",
       "\n",
       "    .dataframe tbody tr th {\n",
       "        vertical-align: top;\n",
       "    }\n",
       "\n",
       "    .dataframe thead th {\n",
       "        text-align: right;\n",
       "    }\n",
       "</style>\n",
       "<table border=\"1\" class=\"dataframe\">\n",
       "  <thead>\n",
       "    <tr style=\"text-align: right;\">\n",
       "      <th></th>\n",
       "      <th>countyFIPS</th>\n",
       "      <th>STATEFP</th>\n",
       "      <th>COUNTYFP</th>\n",
       "      <th>CountyName</th>\n",
       "      <th>StateName</th>\n",
       "      <th>State</th>\n",
       "      <th>lat</th>\n",
       "      <th>lon</th>\n",
       "      <th>POP_LATITUDE</th>\n",
       "      <th>POP_LONGITUDE</th>\n",
       "      <th>...</th>\n",
       "      <th>&gt;500 gatherings</th>\n",
       "      <th>public schools</th>\n",
       "      <th>restaurant dine-in</th>\n",
       "      <th>entertainment/gym</th>\n",
       "      <th>federal guidelines</th>\n",
       "      <th>foreign travel ban</th>\n",
       "      <th>SVIPercentile</th>\n",
       "      <th>HPSAShortage</th>\n",
       "      <th>HPSAServedPop</th>\n",
       "      <th>HPSAUnderservedPop</th>\n",
       "    </tr>\n",
       "  </thead>\n",
       "  <tbody>\n",
       "    <tr>\n",
       "      <th>0</th>\n",
       "      <td>01001</td>\n",
       "      <td>1.0</td>\n",
       "      <td>1.0</td>\n",
       "      <td>Autauga</td>\n",
       "      <td>AL</td>\n",
       "      <td>Alabama</td>\n",
       "      <td>32.540091</td>\n",
       "      <td>-86.645649</td>\n",
       "      <td>32.500389</td>\n",
       "      <td>-86.494165</td>\n",
       "      <td>...</td>\n",
       "      <td>737497.0</td>\n",
       "      <td>737500.0</td>\n",
       "      <td>737503.0</td>\n",
       "      <td>737512.0</td>\n",
       "      <td>737500.0</td>\n",
       "      <td>737495.0</td>\n",
       "      <td>0.4354</td>\n",
       "      <td>NaN</td>\n",
       "      <td>NaN</td>\n",
       "      <td>NaN</td>\n",
       "    </tr>\n",
       "    <tr>\n",
       "      <th>1</th>\n",
       "      <td>01003</td>\n",
       "      <td>1.0</td>\n",
       "      <td>3.0</td>\n",
       "      <td>Baldwin</td>\n",
       "      <td>AL</td>\n",
       "      <td>Alabama</td>\n",
       "      <td>30.738314</td>\n",
       "      <td>-87.726272</td>\n",
       "      <td>30.548923</td>\n",
       "      <td>-87.762381</td>\n",
       "      <td>...</td>\n",
       "      <td>737497.0</td>\n",
       "      <td>737500.0</td>\n",
       "      <td>737503.0</td>\n",
       "      <td>737512.0</td>\n",
       "      <td>737500.0</td>\n",
       "      <td>737495.0</td>\n",
       "      <td>0.2162</td>\n",
       "      <td>NaN</td>\n",
       "      <td>NaN</td>\n",
       "      <td>NaN</td>\n",
       "    </tr>\n",
       "    <tr>\n",
       "      <th>2</th>\n",
       "      <td>01005</td>\n",
       "      <td>1.0</td>\n",
       "      <td>5.0</td>\n",
       "      <td>Barbour</td>\n",
       "      <td>AL</td>\n",
       "      <td>Alabama</td>\n",
       "      <td>31.874030</td>\n",
       "      <td>-85.397327</td>\n",
       "      <td>31.844036</td>\n",
       "      <td>-85.310038</td>\n",
       "      <td>...</td>\n",
       "      <td>737497.0</td>\n",
       "      <td>737500.0</td>\n",
       "      <td>737503.0</td>\n",
       "      <td>737512.0</td>\n",
       "      <td>737500.0</td>\n",
       "      <td>737495.0</td>\n",
       "      <td>0.9959</td>\n",
       "      <td>6.08</td>\n",
       "      <td>5400.0</td>\n",
       "      <td>18241.0</td>\n",
       "    </tr>\n",
       "    <tr>\n",
       "      <th>3</th>\n",
       "      <td>01007</td>\n",
       "      <td>1.0</td>\n",
       "      <td>7.0</td>\n",
       "      <td>Bibb</td>\n",
       "      <td>AL</td>\n",
       "      <td>Alabama</td>\n",
       "      <td>32.999024</td>\n",
       "      <td>-87.125260</td>\n",
       "      <td>33.030921</td>\n",
       "      <td>-87.127659</td>\n",
       "      <td>...</td>\n",
       "      <td>737497.0</td>\n",
       "      <td>737500.0</td>\n",
       "      <td>737503.0</td>\n",
       "      <td>737512.0</td>\n",
       "      <td>737500.0</td>\n",
       "      <td>737495.0</td>\n",
       "      <td>0.6003</td>\n",
       "      <td>2.75</td>\n",
       "      <td>14980.0</td>\n",
       "      <td>6120.0</td>\n",
       "    </tr>\n",
       "    <tr>\n",
       "      <th>4</th>\n",
       "      <td>01009</td>\n",
       "      <td>1.0</td>\n",
       "      <td>9.0</td>\n",
       "      <td>Blount</td>\n",
       "      <td>AL</td>\n",
       "      <td>Alabama</td>\n",
       "      <td>33.990440</td>\n",
       "      <td>-86.562711</td>\n",
       "      <td>33.955243</td>\n",
       "      <td>-86.591491</td>\n",
       "      <td>...</td>\n",
       "      <td>737497.0</td>\n",
       "      <td>737500.0</td>\n",
       "      <td>737503.0</td>\n",
       "      <td>737512.0</td>\n",
       "      <td>737500.0</td>\n",
       "      <td>737495.0</td>\n",
       "      <td>0.4242</td>\n",
       "      <td>7.21</td>\n",
       "      <td>31850.0</td>\n",
       "      <td>25233.0</td>\n",
       "    </tr>\n",
       "  </tbody>\n",
       "</table>\n",
       "<p>5 rows × 87 columns</p>\n",
       "</div>"
      ],
      "text/plain": [
       "  countyFIPS  STATEFP  COUNTYFP CountyName StateName    State        lat  \\\n",
       "0      01001      1.0       1.0    Autauga        AL  Alabama  32.540091   \n",
       "1      01003      1.0       3.0    Baldwin        AL  Alabama  30.738314   \n",
       "2      01005      1.0       5.0    Barbour        AL  Alabama  31.874030   \n",
       "3      01007      1.0       7.0       Bibb        AL  Alabama  32.999024   \n",
       "4      01009      1.0       9.0     Blount        AL  Alabama  33.990440   \n",
       "\n",
       "         lon  POP_LATITUDE  POP_LONGITUDE  ... >500 gatherings public schools  \\\n",
       "0 -86.645649     32.500389     -86.494165  ...        737497.0       737500.0   \n",
       "1 -87.726272     30.548923     -87.762381  ...        737497.0       737500.0   \n",
       "2 -85.397327     31.844036     -85.310038  ...        737497.0       737500.0   \n",
       "3 -87.125260     33.030921     -87.127659  ...        737497.0       737500.0   \n",
       "4 -86.562711     33.955243     -86.591491  ...        737497.0       737500.0   \n",
       "\n",
       "   restaurant dine-in  entertainment/gym  federal guidelines  \\\n",
       "0            737503.0           737512.0            737500.0   \n",
       "1            737503.0           737512.0            737500.0   \n",
       "2            737503.0           737512.0            737500.0   \n",
       "3            737503.0           737512.0            737500.0   \n",
       "4            737503.0           737512.0            737500.0   \n",
       "\n",
       "   foreign travel ban  SVIPercentile  HPSAShortage  HPSAServedPop  \\\n",
       "0            737495.0         0.4354           NaN            NaN   \n",
       "1            737495.0         0.2162           NaN            NaN   \n",
       "2            737495.0         0.9959          6.08         5400.0   \n",
       "3            737495.0         0.6003          2.75        14980.0   \n",
       "4            737495.0         0.4242          7.21        31850.0   \n",
       "\n",
       "   HPSAUnderservedPop  \n",
       "0                 NaN  \n",
       "1                 NaN  \n",
       "2             18241.0  \n",
       "3              6120.0  \n",
       "4             25233.0  \n",
       "\n",
       "[5 rows x 87 columns]"
      ]
     },
     "execution_count": 10,
     "metadata": {},
     "output_type": "execute_result"
    }
   ],
   "source": [
    "#- We first filtered out the territories of the U.S. as we think it \n",
    "# is not the best representation of the cases of all the other 50 major U.S. States\n",
    "\n",
    "data_time_conf = data_time_conf.iloc[5:, :]\n",
    "data_counties = data_counties.iloc[:-2, :]\n",
    "\n",
    "data_counties.head()"
   ]
  },
  {
   "cell_type": "markdown",
   "metadata": {},
   "source": [
    "- There are two rows with all NaN's at the end, we the code above dropped them.\n",
    "- We decided to use \"UID\" of data_time_conf and \"countyFISP\" from data_counties as our foreign key, and notice that the \"countyFIPS\" of data_counties is just UID of data_time_conf add 84000000\n",
    "- So in the following codes, we adjust the keys such that they will match with each other"
   ]
  },
  {
   "cell_type": "code",
   "execution_count": 11,
   "metadata": {},
   "outputs": [
    {
     "data": {
      "text/html": [
       "<div>\n",
       "<style scoped>\n",
       "    .dataframe tbody tr th:only-of-type {\n",
       "        vertical-align: middle;\n",
       "    }\n",
       "\n",
       "    .dataframe tbody tr th {\n",
       "        vertical-align: top;\n",
       "    }\n",
       "\n",
       "    .dataframe thead th {\n",
       "        text-align: right;\n",
       "    }\n",
       "</style>\n",
       "<table border=\"1\" class=\"dataframe\">\n",
       "  <thead>\n",
       "    <tr style=\"text-align: right;\">\n",
       "      <th></th>\n",
       "      <th>UID</th>\n",
       "      <th>iso2</th>\n",
       "      <th>iso3</th>\n",
       "      <th>code3</th>\n",
       "      <th>FIPS</th>\n",
       "      <th>Admin2</th>\n",
       "      <th>Province_State</th>\n",
       "      <th>Country_Region</th>\n",
       "      <th>Lat</th>\n",
       "      <th>Long_</th>\n",
       "      <th>...</th>\n",
       "      <th>&gt;500 gatherings</th>\n",
       "      <th>public schools</th>\n",
       "      <th>restaurant dine-in</th>\n",
       "      <th>entertainment/gym</th>\n",
       "      <th>federal guidelines</th>\n",
       "      <th>foreign travel ban</th>\n",
       "      <th>SVIPercentile</th>\n",
       "      <th>HPSAShortage</th>\n",
       "      <th>HPSAServedPop</th>\n",
       "      <th>HPSAUnderservedPop</th>\n",
       "    </tr>\n",
       "  </thead>\n",
       "  <tbody>\n",
       "    <tr>\n",
       "      <th>0</th>\n",
       "      <td>84001001</td>\n",
       "      <td>US</td>\n",
       "      <td>USA</td>\n",
       "      <td>840</td>\n",
       "      <td>1001.0</td>\n",
       "      <td>Autauga</td>\n",
       "      <td>Alabama</td>\n",
       "      <td>US</td>\n",
       "      <td>32.539527</td>\n",
       "      <td>-86.644082</td>\n",
       "      <td>...</td>\n",
       "      <td>737497.0</td>\n",
       "      <td>737500.0</td>\n",
       "      <td>737503.0</td>\n",
       "      <td>737512.0</td>\n",
       "      <td>737500.0</td>\n",
       "      <td>737495.0</td>\n",
       "      <td>0.4354</td>\n",
       "      <td>NaN</td>\n",
       "      <td>NaN</td>\n",
       "      <td>NaN</td>\n",
       "    </tr>\n",
       "    <tr>\n",
       "      <th>1</th>\n",
       "      <td>84001003</td>\n",
       "      <td>US</td>\n",
       "      <td>USA</td>\n",
       "      <td>840</td>\n",
       "      <td>1003.0</td>\n",
       "      <td>Baldwin</td>\n",
       "      <td>Alabama</td>\n",
       "      <td>US</td>\n",
       "      <td>30.727750</td>\n",
       "      <td>-87.722071</td>\n",
       "      <td>...</td>\n",
       "      <td>737497.0</td>\n",
       "      <td>737500.0</td>\n",
       "      <td>737503.0</td>\n",
       "      <td>737512.0</td>\n",
       "      <td>737500.0</td>\n",
       "      <td>737495.0</td>\n",
       "      <td>0.2162</td>\n",
       "      <td>NaN</td>\n",
       "      <td>NaN</td>\n",
       "      <td>NaN</td>\n",
       "    </tr>\n",
       "    <tr>\n",
       "      <th>2</th>\n",
       "      <td>84001005</td>\n",
       "      <td>US</td>\n",
       "      <td>USA</td>\n",
       "      <td>840</td>\n",
       "      <td>1005.0</td>\n",
       "      <td>Barbour</td>\n",
       "      <td>Alabama</td>\n",
       "      <td>US</td>\n",
       "      <td>31.868263</td>\n",
       "      <td>-85.387129</td>\n",
       "      <td>...</td>\n",
       "      <td>737497.0</td>\n",
       "      <td>737500.0</td>\n",
       "      <td>737503.0</td>\n",
       "      <td>737512.0</td>\n",
       "      <td>737500.0</td>\n",
       "      <td>737495.0</td>\n",
       "      <td>0.9959</td>\n",
       "      <td>6.08</td>\n",
       "      <td>5400.0</td>\n",
       "      <td>18241.0</td>\n",
       "    </tr>\n",
       "    <tr>\n",
       "      <th>3</th>\n",
       "      <td>84001007</td>\n",
       "      <td>US</td>\n",
       "      <td>USA</td>\n",
       "      <td>840</td>\n",
       "      <td>1007.0</td>\n",
       "      <td>Bibb</td>\n",
       "      <td>Alabama</td>\n",
       "      <td>US</td>\n",
       "      <td>32.996421</td>\n",
       "      <td>-87.125115</td>\n",
       "      <td>...</td>\n",
       "      <td>737497.0</td>\n",
       "      <td>737500.0</td>\n",
       "      <td>737503.0</td>\n",
       "      <td>737512.0</td>\n",
       "      <td>737500.0</td>\n",
       "      <td>737495.0</td>\n",
       "      <td>0.6003</td>\n",
       "      <td>2.75</td>\n",
       "      <td>14980.0</td>\n",
       "      <td>6120.0</td>\n",
       "    </tr>\n",
       "    <tr>\n",
       "      <th>4</th>\n",
       "      <td>84001009</td>\n",
       "      <td>US</td>\n",
       "      <td>USA</td>\n",
       "      <td>840</td>\n",
       "      <td>1009.0</td>\n",
       "      <td>Blount</td>\n",
       "      <td>Alabama</td>\n",
       "      <td>US</td>\n",
       "      <td>33.982109</td>\n",
       "      <td>-86.567906</td>\n",
       "      <td>...</td>\n",
       "      <td>737497.0</td>\n",
       "      <td>737500.0</td>\n",
       "      <td>737503.0</td>\n",
       "      <td>737512.0</td>\n",
       "      <td>737500.0</td>\n",
       "      <td>737495.0</td>\n",
       "      <td>0.4242</td>\n",
       "      <td>7.21</td>\n",
       "      <td>31850.0</td>\n",
       "      <td>25233.0</td>\n",
       "    </tr>\n",
       "  </tbody>\n",
       "</table>\n",
       "<p>5 rows × 186 columns</p>\n",
       "</div>"
      ],
      "text/plain": [
       "        UID iso2 iso3  code3    FIPS   Admin2 Province_State Country_Region  \\\n",
       "0  84001001   US  USA    840  1001.0  Autauga        Alabama             US   \n",
       "1  84001003   US  USA    840  1003.0  Baldwin        Alabama             US   \n",
       "2  84001005   US  USA    840  1005.0  Barbour        Alabama             US   \n",
       "3  84001007   US  USA    840  1007.0     Bibb        Alabama             US   \n",
       "4  84001009   US  USA    840  1009.0   Blount        Alabama             US   \n",
       "\n",
       "         Lat      Long_  ... >500 gatherings  public schools  \\\n",
       "0  32.539527 -86.644082  ...        737497.0        737500.0   \n",
       "1  30.727750 -87.722071  ...        737497.0        737500.0   \n",
       "2  31.868263 -85.387129  ...        737497.0        737500.0   \n",
       "3  32.996421 -87.125115  ...        737497.0        737500.0   \n",
       "4  33.982109 -86.567906  ...        737497.0        737500.0   \n",
       "\n",
       "   restaurant dine-in  entertainment/gym  federal guidelines  \\\n",
       "0            737503.0           737512.0            737500.0   \n",
       "1            737503.0           737512.0            737500.0   \n",
       "2            737503.0           737512.0            737500.0   \n",
       "3            737503.0           737512.0            737500.0   \n",
       "4            737503.0           737512.0            737500.0   \n",
       "\n",
       "   foreign travel ban  SVIPercentile  HPSAShortage  HPSAServedPop  \\\n",
       "0            737495.0         0.4354           NaN            NaN   \n",
       "1            737495.0         0.2162           NaN            NaN   \n",
       "2            737495.0         0.9959          6.08         5400.0   \n",
       "3            737495.0         0.6003          2.75        14980.0   \n",
       "4            737495.0         0.4242          7.21        31850.0   \n",
       "\n",
       "   HPSAUnderservedPop  \n",
       "0                 NaN  \n",
       "1                 NaN  \n",
       "2             18241.0  \n",
       "3              6120.0  \n",
       "4             25233.0  \n",
       "\n",
       "[5 rows x 186 columns]"
      ]
     },
     "execution_count": 11,
     "metadata": {},
     "output_type": "execute_result"
    }
   ],
   "source": [
    "data_time_conf['UID'] = data_time_conf['UID'].astype(int)\n",
    "data_counties[\"countyFIPS\"] = data_counties['countyFIPS'].astype(int)\n",
    "data_counties['countyFIPS'] = data_counties['countyFIPS'] + 84000000\n",
    "\n",
    "# Merge the two table\n",
    "combined_conf = data_time_conf.merge(data_counties, left_on= 'UID', right_on = 'countyFIPS')\n",
    "\n",
    "combined_conf.head(5)"
   ]
  },
  {
   "cell_type": "markdown",
   "metadata": {},
   "source": [
    "#### Cleaning up NaN values"
   ]
  },
  {
   "cell_type": "code",
   "execution_count": 12,
   "metadata": {
    "scrolled": true
   },
   "outputs": [
    {
     "data": {
      "text/plain": [
       "UID                                     0\n",
       "iso2                                    0\n",
       "iso3                                    0\n",
       "code3                                   0\n",
       "FIPS                                    0\n",
       "Admin2                                  0\n",
       "Province_State                          0\n",
       "Country_Region                          0\n",
       "Lat                                     0\n",
       "Long_                                   0\n",
       "Combined_Key                            0\n",
       "1/22/20                                 0\n",
       "1/23/20                                 0\n",
       "1/24/20                                 0\n",
       "1/25/20                                 0\n",
       "1/26/20                                 0\n",
       "1/27/20                                 0\n",
       "1/28/20                                 0\n",
       "1/29/20                                 0\n",
       "1/30/20                                 0\n",
       "1/31/20                                 0\n",
       "2/1/20                                  0\n",
       "2/2/20                                  0\n",
       "2/3/20                                  0\n",
       "2/4/20                                  0\n",
       "2/5/20                                  0\n",
       "2/6/20                                  0\n",
       "2/7/20                                  0\n",
       "2/8/20                                  0\n",
       "2/9/20                                  0\n",
       "                                     ... \n",
       "PopMale65-742010                        0\n",
       "PopFmle65-742010                        0\n",
       "PopMale75-842010                        0\n",
       "PopFmle75-842010                        0\n",
       "PopMale>842010                          0\n",
       "PopFmle>842010                          0\n",
       "3-YrMortalityAge<1Year2015-17        2672\n",
       "3-YrMortalityAge1-4Years2015-17      3075\n",
       "3-YrMortalityAge5-14Years2015-17     3045\n",
       "3-YrMortalityAge15-24Years2015-17    2514\n",
       "3-YrMortalityAge25-34Years2015-17    2183\n",
       "3-YrMortalityAge35-44Years2015-17    1842\n",
       "3-YrMortalityAge45-54Years2015-17    1033\n",
       "3-YrMortalityAge55-64Years2015-17     465\n",
       "3-YrMortalityAge65-74Years2015-17     306\n",
       "3-YrMortalityAge75-84Years2015-17     214\n",
       "3-YrMortalityAge85+Years2015-17       157\n",
       "mortality2015-17Estimated            3045\n",
       "stay at home                          489\n",
       ">50 gatherings                        118\n",
       ">500 gatherings                       118\n",
       "public schools                          0\n",
       "restaurant dine-in                      0\n",
       "entertainment/gym                      65\n",
       "federal guidelines                      0\n",
       "foreign travel ban                      0\n",
       "SVIPercentile                           1\n",
       "HPSAShortage                         1101\n",
       "HPSAServedPop                        1101\n",
       "HPSAUnderservedPop                   1101\n",
       "Length: 186, dtype: int64"
      ]
     },
     "execution_count": 12,
     "metadata": {},
     "output_type": "execute_result"
    }
   ],
   "source": [
    "combined_conf.isna().sum()"
   ]
  },
  {
   "cell_type": "markdown",
   "metadata": {},
   "source": [
    "- Notice that there are lots of NaN values in some of the columns. \n",
    "- Here, in order to give a consistant and relatively accurate X matrix for fitting our models, we decided to drop out the columns with too many NaNs, since if there are too many NaNs in a category, it would be really hard to choose alternative for them since demographic information are very unique to each state, and filling up all the NaN data with \"mean\" \"median\" or \"most frequent\" will potentially bring misleading information to our models.\n",
    "- To define \"too many\", we decided that if more than 20% of the data are NaN, we will drop it."
   ]
  },
  {
   "cell_type": "code",
   "execution_count": 13,
   "metadata": {},
   "outputs": [
    {
     "data": {
      "text/plain": [
       "State                                0.021019\n",
       "lat                                  0.021019\n",
       "lon                                  0.021019\n",
       "#EligibleforMedicare2018             0.001911\n",
       "MedicareEnrollment,AgedTot2017       0.006688\n",
       "HeartDiseaseMortality                0.002229\n",
       "StrokeMortality                      0.002548\n",
       "dem_to_rep_ratio                     0.008280\n",
       "3-YrMortalityAge55-64Years2015-17    0.148089\n",
       "3-YrMortalityAge65-74Years2015-17    0.097452\n",
       "3-YrMortalityAge75-84Years2015-17    0.068153\n",
       "3-YrMortalityAge85+Years2015-17      0.050000\n",
       "stay at home                         0.155732\n",
       ">50 gatherings                       0.037580\n",
       ">500 gatherings                      0.037580\n",
       "entertainment/gym                    0.020701\n",
       "SVIPercentile                        0.000318\n",
       "dtype: float64"
      ]
     },
     "execution_count": 13,
     "metadata": {},
     "output_type": "execute_result"
    }
   ],
   "source": [
    "combined_conf.loc[:, combined_conf.isnull().mean() > .2].isnull().mean()\n",
    "combined_conf = combined_conf.loc[:, combined_conf.isnull().mean() <= .2]\n",
    "combined_conf.loc[:, combined_conf.isnull().mean() > 0].isnull().mean()"
   ]
  },
  {
   "cell_type": "markdown",
   "metadata": {},
   "source": [
    "Columns to Drop Direactly:\n",
    "1. `State`: The Province_State from the time serise table has no NaN values, so Provinc_State can already represent the names of all the State.\n",
    "2. `lat`: The Lat from the time serise table has no NaN values, so it can present all the locations\n",
    "3. `lon`: The Lon from the time serise table has no NaN values, so it can present all the locations\n",
    "4. `entertainment/gym`: We think gym and entertainment might have long-term effect for human body, but it is not very related to the virus that is happend right now.\n",
    "\n",
    "Columns to take the \"Mean\" value to fill NaNs:\n",
    "1. `#EligibleforMedicare2018`: Since it has such a small NaN percentage and Medicare system is relatively well-developed in the U.S., we decided to fill the mean for the NaN of this column\n",
    "2. `All the rate, ratio, and percentile`: Since rate and ratio has already scaled, we can safely apply rate and ratio to states and counties with different populations.\n",
    "3. `All the MortalityAge`: Since all of them have such low NaN precentage, we decided to fill in Mean for them, as Mean will average out the effect of states with large population and small population. \n",
    "\n",
    "Columns to take the \"0\" value to fill NaNs:\n",
    "1. `>50 gatherings`: since gatherings might have a huge impact on confirmed cases, we rather to do it more safely by filling in 0s for these features with NaNs.\n",
    "2. `>500 gatherings`: since gatherings might have a huge impact on confirmed cases, we rather to do it more safely by filling in 0s for these features with NaNs."
   ]
  },
  {
   "cell_type": "code",
   "execution_count": 14,
   "metadata": {},
   "outputs": [
    {
     "data": {
      "text/plain": [
       "0.0"
      ]
     },
     "execution_count": 14,
     "metadata": {},
     "output_type": "execute_result"
    }
   ],
   "source": [
    "combined_conf = combined_conf.drop(columns = ['State', 'lat', 'lon', 'entertainment/gym'])\n",
    "combined_conf['>50 gatherings'] = combined_conf['>50 gatherings'].fillna(0)\n",
    "combined_conf['>500 gatherings'] = combined_conf['>500 gatherings'].fillna(0)\n",
    "combined_conf = combined_conf.fillna(combined_conf.mean())\n",
    "# Indicator that there are no more NaN left in our dataframe!\n",
    "combined_conf.loc[:, combined_conf.isnull().mean() > 0].isnull().mean().sum()"
   ]
  },
  {
   "cell_type": "markdown",
   "metadata": {},
   "source": [
    "### 3. Create the All-in-1 DataFrame for training"
   ]
  },
  {
   "cell_type": "code",
   "execution_count": 15,
   "metadata": {},
   "outputs": [
    {
     "data": {
      "text/html": [
       "<div>\n",
       "<style scoped>\n",
       "    .dataframe tbody tr th:only-of-type {\n",
       "        vertical-align: middle;\n",
       "    }\n",
       "\n",
       "    .dataframe tbody tr th {\n",
       "        vertical-align: top;\n",
       "    }\n",
       "\n",
       "    .dataframe thead th {\n",
       "        text-align: right;\n",
       "    }\n",
       "</style>\n",
       "<table border=\"1\" class=\"dataframe\">\n",
       "  <thead>\n",
       "    <tr style=\"text-align: right;\">\n",
       "      <th></th>\n",
       "      <th>UID_x</th>\n",
       "      <th>iso2</th>\n",
       "      <th>iso3</th>\n",
       "      <th>code3</th>\n",
       "      <th>FIPS_x</th>\n",
       "      <th>Admin2</th>\n",
       "      <th>Province_State</th>\n",
       "      <th>Country_Region_x</th>\n",
       "      <th>Lat_x</th>\n",
       "      <th>Long_</th>\n",
       "      <th>...</th>\n",
       "      <th>Active</th>\n",
       "      <th>FIPS_y</th>\n",
       "      <th>Incident_Rate</th>\n",
       "      <th>People_Tested</th>\n",
       "      <th>People_Hospitalized</th>\n",
       "      <th>Mortality_Rate</th>\n",
       "      <th>UID_y</th>\n",
       "      <th>ISO3</th>\n",
       "      <th>Testing_Rate</th>\n",
       "      <th>Hospitalization_Rate</th>\n",
       "    </tr>\n",
       "  </thead>\n",
       "  <tbody>\n",
       "    <tr>\n",
       "      <th>0</th>\n",
       "      <td>84001001</td>\n",
       "      <td>US</td>\n",
       "      <td>USA</td>\n",
       "      <td>840</td>\n",
       "      <td>1001.0</td>\n",
       "      <td>Autauga</td>\n",
       "      <td>Alabama</td>\n",
       "      <td>US</td>\n",
       "      <td>32.539527</td>\n",
       "      <td>-86.644082</td>\n",
       "      <td>...</td>\n",
       "      <td>4559.0</td>\n",
       "      <td>1.0</td>\n",
       "      <td>100.492717</td>\n",
       "      <td>42538.0</td>\n",
       "      <td>620.0</td>\n",
       "      <td>3.247029</td>\n",
       "      <td>84000001</td>\n",
       "      <td>USA</td>\n",
       "      <td>907.206961</td>\n",
       "      <td>13.157895</td>\n",
       "    </tr>\n",
       "    <tr>\n",
       "      <th>1</th>\n",
       "      <td>84001003</td>\n",
       "      <td>US</td>\n",
       "      <td>USA</td>\n",
       "      <td>840</td>\n",
       "      <td>1003.0</td>\n",
       "      <td>Baldwin</td>\n",
       "      <td>Alabama</td>\n",
       "      <td>US</td>\n",
       "      <td>30.727750</td>\n",
       "      <td>-87.722071</td>\n",
       "      <td>...</td>\n",
       "      <td>4559.0</td>\n",
       "      <td>1.0</td>\n",
       "      <td>100.492717</td>\n",
       "      <td>42538.0</td>\n",
       "      <td>620.0</td>\n",
       "      <td>3.247029</td>\n",
       "      <td>84000001</td>\n",
       "      <td>USA</td>\n",
       "      <td>907.206961</td>\n",
       "      <td>13.157895</td>\n",
       "    </tr>\n",
       "    <tr>\n",
       "      <th>2</th>\n",
       "      <td>84001005</td>\n",
       "      <td>US</td>\n",
       "      <td>USA</td>\n",
       "      <td>840</td>\n",
       "      <td>1005.0</td>\n",
       "      <td>Barbour</td>\n",
       "      <td>Alabama</td>\n",
       "      <td>US</td>\n",
       "      <td>31.868263</td>\n",
       "      <td>-85.387129</td>\n",
       "      <td>...</td>\n",
       "      <td>4559.0</td>\n",
       "      <td>1.0</td>\n",
       "      <td>100.492717</td>\n",
       "      <td>42538.0</td>\n",
       "      <td>620.0</td>\n",
       "      <td>3.247029</td>\n",
       "      <td>84000001</td>\n",
       "      <td>USA</td>\n",
       "      <td>907.206961</td>\n",
       "      <td>13.157895</td>\n",
       "    </tr>\n",
       "    <tr>\n",
       "      <th>3</th>\n",
       "      <td>84001007</td>\n",
       "      <td>US</td>\n",
       "      <td>USA</td>\n",
       "      <td>840</td>\n",
       "      <td>1007.0</td>\n",
       "      <td>Bibb</td>\n",
       "      <td>Alabama</td>\n",
       "      <td>US</td>\n",
       "      <td>32.996421</td>\n",
       "      <td>-87.125115</td>\n",
       "      <td>...</td>\n",
       "      <td>4559.0</td>\n",
       "      <td>1.0</td>\n",
       "      <td>100.492717</td>\n",
       "      <td>42538.0</td>\n",
       "      <td>620.0</td>\n",
       "      <td>3.247029</td>\n",
       "      <td>84000001</td>\n",
       "      <td>USA</td>\n",
       "      <td>907.206961</td>\n",
       "      <td>13.157895</td>\n",
       "    </tr>\n",
       "    <tr>\n",
       "      <th>4</th>\n",
       "      <td>84001009</td>\n",
       "      <td>US</td>\n",
       "      <td>USA</td>\n",
       "      <td>840</td>\n",
       "      <td>1009.0</td>\n",
       "      <td>Blount</td>\n",
       "      <td>Alabama</td>\n",
       "      <td>US</td>\n",
       "      <td>33.982109</td>\n",
       "      <td>-86.567906</td>\n",
       "      <td>...</td>\n",
       "      <td>4559.0</td>\n",
       "      <td>1.0</td>\n",
       "      <td>100.492717</td>\n",
       "      <td>42538.0</td>\n",
       "      <td>620.0</td>\n",
       "      <td>3.247029</td>\n",
       "      <td>84000001</td>\n",
       "      <td>USA</td>\n",
       "      <td>907.206961</td>\n",
       "      <td>13.157895</td>\n",
       "    </tr>\n",
       "  </tbody>\n",
       "</table>\n",
       "<p>5 rows × 187 columns</p>\n",
       "</div>"
      ],
      "text/plain": [
       "      UID_x iso2 iso3  code3  FIPS_x   Admin2 Province_State Country_Region_x  \\\n",
       "0  84001001   US  USA    840  1001.0  Autauga        Alabama               US   \n",
       "1  84001003   US  USA    840  1003.0  Baldwin        Alabama               US   \n",
       "2  84001005   US  USA    840  1005.0  Barbour        Alabama               US   \n",
       "3  84001007   US  USA    840  1007.0     Bibb        Alabama               US   \n",
       "4  84001009   US  USA    840  1009.0   Blount        Alabama               US   \n",
       "\n",
       "       Lat_x      Long_  ...  Active  FIPS_y  Incident_Rate  People_Tested  \\\n",
       "0  32.539527 -86.644082  ...  4559.0     1.0     100.492717        42538.0   \n",
       "1  30.727750 -87.722071  ...  4559.0     1.0     100.492717        42538.0   \n",
       "2  31.868263 -85.387129  ...  4559.0     1.0     100.492717        42538.0   \n",
       "3  32.996421 -87.125115  ...  4559.0     1.0     100.492717        42538.0   \n",
       "4  33.982109 -86.567906  ...  4559.0     1.0     100.492717        42538.0   \n",
       "\n",
       "   People_Hospitalized  Mortality_Rate     UID_y  ISO3  Testing_Rate  \\\n",
       "0                620.0        3.247029  84000001   USA    907.206961   \n",
       "1                620.0        3.247029  84000001   USA    907.206961   \n",
       "2                620.0        3.247029  84000001   USA    907.206961   \n",
       "3                620.0        3.247029  84000001   USA    907.206961   \n",
       "4                620.0        3.247029  84000001   USA    907.206961   \n",
       "\n",
       "   Hospitalization_Rate  \n",
       "0             13.157895  \n",
       "1             13.157895  \n",
       "2             13.157895  \n",
       "3             13.157895  \n",
       "4             13.157895  \n",
       "\n",
       "[5 rows x 187 columns]"
      ]
     },
     "execution_count": 15,
     "metadata": {},
     "output_type": "execute_result"
    }
   ],
   "source": [
    "all_in_1 = combined_conf.merge(general_state, left_on = 'Province_State', right_on='Province_State')\n",
    "\n",
    "all_in_1.head(5)"
   ]
  },
  {
   "cell_type": "markdown",
   "metadata": {},
   "source": [
    "- Notice there are many columns within these two dataframe with repeated names, which Pandas matigate through it with adding \"_x\" \"_y\" at the end of the column names\n",
    "- So, I clean out the data further by dropping the columns with overlapping names"
   ]
  },
  {
   "cell_type": "code",
   "execution_count": 16,
   "metadata": {},
   "outputs": [],
   "source": [
    "drop_list = ['UID_x', 'iso2', 'iso3', \"code3\", \"FIPS_x\", 'Admin2', \n",
    "                'Province_State', \"Country_Region_x\", \"Combined_Key\",\n",
    "               \"StateName\", 'countyFIPS', 'STATEFP', 'COUNTYFP', 'CountyName', \n",
    "                'POP_LATITUDE', 'POP_LONGITUDE', 'FIPS_y', \"UID_y\", \n",
    "                \"ISO3\", 'CensusRegionName', 'Country_Region_y', 'Last_Update', 'CensusDivisionName']\n",
    "\n",
    "all_in_1 = all_in_1.drop(columns = drop_list)"
   ]
  },
  {
   "cell_type": "markdown",
   "metadata": {},
   "source": [
    "## EDA & Feature Selection"
   ]
  },
  {
   "cell_type": "code",
   "execution_count": 17,
   "metadata": {},
   "outputs": [],
   "source": [
    "def mse(y_test, y_true):\n",
    "    return np.mean((y_test - y_true) ** 2)\n",
    "\n",
    "def expo_fit(y):\n",
    "    x = np.arange(-y.shape[0], 0)\n",
    "    return np.exp(np.polyfit(x, np.log(y), 1)[1])"
   ]
  },
  {
   "cell_type": "markdown",
   "metadata": {},
   "source": [
    "### 1. Import the data that has already been cleaned and merged"
   ]
  },
  {
   "cell_type": "code",
   "execution_count": 18,
   "metadata": {},
   "outputs": [],
   "source": [
    "data = pd.read_csv(\"all_in_1.csv\")\n",
    "X, y = data.drop(columns=['4/18/20']), data['4/18/20']"
   ]
  },
  {
   "cell_type": "markdown",
   "metadata": {},
   "source": [
    "### 2.Data Visualizations"
   ]
  },
  {
   "cell_type": "markdown",
   "metadata": {},
   "source": [
    "#### Exponential Interpolation"
   ]
  },
  {
   "cell_type": "code",
   "execution_count": 19,
   "metadata": {},
   "outputs": [
    {
     "name": "stderr",
     "output_type": "stream",
     "text": [
      "/usr/local/lib/python3.7/site-packages/ipykernel_launcher.py:6: RuntimeWarning: divide by zero encountered in log\n",
      "  \n"
     ]
    }
   ],
   "source": [
    "results = []\n",
    "for j in range(86,89):\n",
    "    result = []\n",
    "    for i in range(j-12, j-2):\n",
    "        y_mat = X.iloc[:,i:j].to_numpy()\n",
    "        exp_predict = np.apply_along_axis(expo_fit, 1, y_mat)\n",
    "        exp_predict[np.isnan(exp_predict)] = 0\n",
    "        result.append(mse(exp_predict, X.iloc[:,j]))\n",
    "    results.append(result)\n",
    "\n",
    "# special handling for interpolating 4/18/20 data\n",
    "result = []\n",
    "for i in range(78, 88):\n",
    "    y_mat = X.iloc[:,i:90].to_numpy()\n",
    "    exp_predict = np.apply_along_axis(expo_fit, 1, y_mat)\n",
    "    exp_predict[np.isnan(exp_predict)] = 0\n",
    "    result.append(mse(exp_predict, y))\n",
    "\n",
    "results.append(result)"
   ]
  },
  {
   "cell_type": "code",
   "execution_count": 20,
   "metadata": {},
   "outputs": [
    {
     "data": {
      "image/png": "[encoded data removed]",
      "text/plain": [
       "<Figure size 576x288 with 1 Axes>"
      ]
     },
     "metadata": {},
     "output_type": "display_data"
    }
   ],
   "source": [
    "x = np.arange(11, 1, -1)\n",
    "labels = ['4/15/20', '4/16/20', '4/17/20', '4/18/20']\n",
    "plt.figure(figsize=(8, 4))\n",
    "for i in range(4):\n",
    "    plt.plot(x, results[i], label=labels[i])\n",
    "plt.legend()\n",
    "plt.ylabel(\"mse of interpolation\")\n",
    "plt.xlabel(\"# of days used in interpolation\")\n",
    "plt.title(\"Figure C: performance of exponential interpolation v.s. # of previous days used\", fontsize=11);"
   ]
  },
  {
   "cell_type": "markdown",
   "metadata": {},
   "source": [
    "Our first assumption follows from the **common exponential model for epidemic growth**. We take advantage of this and try to answer \"which days in the time series can accurately predict the future\" using exponential interpolation. More specifically, to generalize this assumption and reduce our search space, we **fit exponential curves for \"n consecutive days earlier\" ($n \\in [2, 11]$).**"
   ]
  },
  {
   "cell_type": "code",
   "execution_count": 21,
   "metadata": {},
   "outputs": [
    {
     "data": {
      "text/plain": [
       "[[38285.24756287053,\n",
       "  25819.94140263299,\n",
       "  17846.844965505796,\n",
       "  14510.320273548678,\n",
       "  11544.732939517928,\n",
       "  9070.47285335119,\n",
       "  6314.276954803465,\n",
       "  4161.163441568542,\n",
       "  2519.443093081211,\n",
       "  851.1078724010056],\n",
       " [17704.488586479663,\n",
       "  10765.516107280713,\n",
       "  7379.5534557015135,\n",
       "  4686.816391233828,\n",
       "  2730.5572690721815,\n",
       "  1303.5988961571536,\n",
       "  948.0088682990281,\n",
       "  1743.1088289294564,\n",
       "  3794.997094648453,\n",
       "  5784.549847621325],\n",
       " [13626.036200996768,\n",
       "  9416.257717735434,\n",
       "  6023.611215808029,\n",
       "  3514.9756683769333,\n",
       "  1658.6922774102868,\n",
       "  798.5137952842675,\n",
       "  628.8950452665757,\n",
       "  734.2707983926412,\n",
       "  640.5454020072356,\n",
       "  580.8426131360369],\n",
       " [6971.202738965814,\n",
       "  4023.1203965566156,\n",
       "  2003.898266704859,\n",
       "  1212.1586187397197,\n",
       "  1287.9287967038435,\n",
       "  1735.9267688954167,\n",
       "  1627.5788745737757,\n",
       "  1093.259278994208,\n",
       "  1049.7701682916752,\n",
       "  3962.563621160481]]"
      ]
     },
     "execution_count": 21,
     "metadata": {},
     "output_type": "execute_result"
    }
   ],
   "source": [
    "results"
   ]
  },
  {
   "cell_type": "markdown",
   "metadata": {},
   "source": [
    "#### Distribution Observation"
   ]
  },
  {
   "cell_type": "code",
   "execution_count": 22,
   "metadata": {},
   "outputs": [
    {
     "data": {
      "image/png": "[encoded data removed]",
      "text/plain": [
       "<Figure size 1152x432 with 2 Axes>"
      ]
     },
     "metadata": {},
     "output_type": "display_data"
    }
   ],
   "source": [
    "plt.figure(figsize=(16, 6))\n",
    "plt.subplot(1, 2, 1)\n",
    "sns.distplot(y[y < np.percentile(y, 80)], kde=False)\n",
    "plt.xlabel(\"Confirmed cases in 4/18/20\")\n",
    "plt.ylabel(\"Frequency\")\n",
    "plt.title(\"Figure A: distribution of confirmed cases for counties < 80 percentile\", fontsize=15);\n",
    "\n",
    "plt.subplot(1, 2, 2)\n",
    "sns.scatterplot(x=\"4/18/20\", y=\"PopulationEstimate2018\", data=data)\n",
    "plt.xlabel(\"Confirmed cases in 4/18/20\")\n",
    "plt.title(\"Figure B: distplot of confirmed cases v.s. population\", fontsize=15);"
   ]
  },
  {
   "cell_type": "markdown",
   "metadata": {},
   "source": [
    "- In figure A, we plot out the **distribution of confirmed cases for counties within lower 80 percentiles**. It shows how left-skewed the distribution is as **80\\% of counties have less than 80 cases and more than $\\frac{1}{3}$ of counties have less than 10**. \n",
    "- Figure B gives us a more complete view of the distribution of populations and confirmed cases, as we can see **the clusters of points near the origin and some \"outlier-like\" points far away**, which helps us greatly in the downstream model selection. We also didn't find a strong correlation between population size and the confirmed case. "
   ]
  },
  {
   "cell_type": "markdown",
   "metadata": {},
   "source": [
    "### 3. LassoCV Automated Feature Selection"
   ]
  },
  {
   "cell_type": "code",
   "execution_count": 23,
   "metadata": {},
   "outputs": [
    {
     "name": "stderr",
     "output_type": "stream",
     "text": [
      "/usr/local/lib/python3.7/site-packages/sklearn/linear_model/_coordinate_descent.py:476: ConvergenceWarning: Objective did not converge. You might want to increase the number of iterations. Duality gap: 6461634.685806999, tolerance: 2265056.071871848\n",
      "  positive)\n"
     ]
    },
    {
     "data": {
      "text/html": [
       "<div>\n",
       "<style scoped>\n",
       "    .dataframe tbody tr th:only-of-type {\n",
       "        vertical-align: middle;\n",
       "    }\n",
       "\n",
       "    .dataframe tbody tr th {\n",
       "        vertical-align: top;\n",
       "    }\n",
       "\n",
       "    .dataframe thead th {\n",
       "        text-align: right;\n",
       "    }\n",
       "</style>\n",
       "<table border=\"1\" class=\"dataframe\">\n",
       "  <thead>\n",
       "    <tr style=\"text-align: right;\">\n",
       "      <th></th>\n",
       "      <th>col_name</th>\n",
       "      <th>imp</th>\n",
       "    </tr>\n",
       "  </thead>\n",
       "  <tbody>\n",
       "    <tr>\n",
       "      <th>5</th>\n",
       "      <td>1/24/20</td>\n",
       "      <td>2.323859e+02</td>\n",
       "    </tr>\n",
       "    <tr>\n",
       "      <th>13</th>\n",
       "      <td>2/1/20</td>\n",
       "      <td>2.253467e+02</td>\n",
       "    </tr>\n",
       "    <tr>\n",
       "      <th>60</th>\n",
       "      <td>3/19/20</td>\n",
       "      <td>8.781618e-01</td>\n",
       "    </tr>\n",
       "    <tr>\n",
       "      <th>111</th>\n",
       "      <td>dem_to_rep_ratio</td>\n",
       "      <td>2.839159e-01</td>\n",
       "    </tr>\n",
       "    <tr>\n",
       "      <th>84</th>\n",
       "      <td>4/12/20</td>\n",
       "      <td>2.406786e-01</td>\n",
       "    </tr>\n",
       "    <tr>\n",
       "      <th>89</th>\n",
       "      <td>4/17/20</td>\n",
       "      <td>1.788811e-01</td>\n",
       "    </tr>\n",
       "    <tr>\n",
       "      <th>87</th>\n",
       "      <td>4/15/20</td>\n",
       "      <td>1.723717e-01</td>\n",
       "    </tr>\n",
       "    <tr>\n",
       "      <th>83</th>\n",
       "      <td>4/11/20</td>\n",
       "      <td>1.652801e-01</td>\n",
       "    </tr>\n",
       "    <tr>\n",
       "      <th>88</th>\n",
       "      <td>4/16/20</td>\n",
       "      <td>1.527696e-01</td>\n",
       "    </tr>\n",
       "    <tr>\n",
       "      <th>85</th>\n",
       "      <td>4/13/20</td>\n",
       "      <td>1.512578e-01</td>\n",
       "    </tr>\n",
       "    <tr>\n",
       "      <th>86</th>\n",
       "      <td>4/14/20</td>\n",
       "      <td>1.105485e-01</td>\n",
       "    </tr>\n",
       "    <tr>\n",
       "      <th>153</th>\n",
       "      <td>Long</td>\n",
       "      <td>8.529804e-02</td>\n",
       "    </tr>\n",
       "    <tr>\n",
       "      <th>96</th>\n",
       "      <td>PopulationDensityperSqMile2010</td>\n",
       "      <td>7.736804e-03</td>\n",
       "    </tr>\n",
       "    <tr>\n",
       "      <th>107</th>\n",
       "      <td>TotalM.D.'s,TotNon-FedandFed2017</td>\n",
       "      <td>9.869136e-04</td>\n",
       "    </tr>\n",
       "    <tr>\n",
       "      <th>106</th>\n",
       "      <td>#FTEHospitalTotal2017</td>\n",
       "      <td>3.631537e-04</td>\n",
       "    </tr>\n",
       "    <tr>\n",
       "      <th>6</th>\n",
       "      <td>1/25/20</td>\n",
       "      <td>1.668598e-12</td>\n",
       "    </tr>\n",
       "    <tr>\n",
       "      <th>14</th>\n",
       "      <td>2/2/20</td>\n",
       "      <td>1.133610e-12</td>\n",
       "    </tr>\n",
       "    <tr>\n",
       "      <th>117</th>\n",
       "      <td>PopFmle10-142010</td>\n",
       "      <td>0.000000e+00</td>\n",
       "    </tr>\n",
       "    <tr>\n",
       "      <th>116</th>\n",
       "      <td>PopMale10-142010</td>\n",
       "      <td>0.000000e+00</td>\n",
       "    </tr>\n",
       "    <tr>\n",
       "      <th>115</th>\n",
       "      <td>PopFmle5-92010</td>\n",
       "      <td>0.000000e+00</td>\n",
       "    </tr>\n",
       "  </tbody>\n",
       "</table>\n",
       "</div>"
      ],
      "text/plain": [
       "                             col_name           imp\n",
       "5                             1/24/20  2.323859e+02\n",
       "13                             2/1/20  2.253467e+02\n",
       "60                            3/19/20  8.781618e-01\n",
       "111                  dem_to_rep_ratio  2.839159e-01\n",
       "84                            4/12/20  2.406786e-01\n",
       "89                            4/17/20  1.788811e-01\n",
       "87                            4/15/20  1.723717e-01\n",
       "83                            4/11/20  1.652801e-01\n",
       "88                            4/16/20  1.527696e-01\n",
       "85                            4/13/20  1.512578e-01\n",
       "86                            4/14/20  1.105485e-01\n",
       "153                              Long  8.529804e-02\n",
       "96     PopulationDensityperSqMile2010  7.736804e-03\n",
       "107  TotalM.D.'s,TotNon-FedandFed2017  9.869136e-04\n",
       "106             #FTEHospitalTotal2017  3.631537e-04\n",
       "6                             1/25/20  1.668598e-12\n",
       "14                             2/2/20  1.133610e-12\n",
       "117                  PopFmle10-142010  0.000000e+00\n",
       "116                  PopMale10-142010  0.000000e+00\n",
       "115                    PopFmle5-92010  0.000000e+00"
      ]
     },
     "execution_count": 23,
     "metadata": {},
     "output_type": "execute_result"
    }
   ],
   "source": [
    "sfm = SelectFromModel(LassoCV(normalize=True)).fit(X, y)\n",
    "\n",
    "feature_imp_df = pd.DataFrame({\"col_name\": X.columns, \"imp\": sfm.estimator_.coef_})\n",
    "feature_imp_df.sort_values(by=\"imp\", ascending=False)[:20]"
   ]
  },
  {
   "cell_type": "markdown",
   "metadata": {},
   "source": [
    "#### Feature Correlation Visualization Heatmap"
   ]
  },
  {
   "cell_type": "code",
   "execution_count": 24,
   "metadata": {},
   "outputs": [],
   "source": [
    "lasso_features = ['dem_to_rep_ratio', 'PopulationDensityperSqMile2010', 'PopFmle25-292010', '4/18/20']\n",
    "extra_t_features = ['PopulationEstimate2018', 'stay at home', \n",
    "                    'Mortality_Rate', 'Testing_Rate', 'People_Hospitalized', \n",
    "                    'Incident_Rate', 'People_Tested', 'StrokeMortality','PopFmle65-742010',\n",
    "                    'PopMale75-842010', 'PopFmle75-842010', \n",
    "                    'PopFmle45-542010','PopMale55-592010', 'PopFmle55-592010', 'PopMale60-642010',\n",
    "                    'PopFmle60-642010',\n",
    "                    'PopMale75-842010', 'PopFmle75-842010',\n",
    "                    '3-YrMortalityAge55-64Years2015-17',\n",
    "                    '3-YrMortalityAge65-74Years2015-17',\n",
    "                    '3-YrMortalityAge75-84Years2015-17', '3-YrMortalityAge85+Years2015-17',]\n",
    "heat_features = lasso_features + extra_t_features"
   ]
  },
  {
   "cell_type": "code",
   "execution_count": 25,
   "metadata": {
    "scrolled": false
   },
   "outputs": [
    {
     "data": {
      "image/png": "[encoded data removed]",
      "text/plain": [
       "<Figure size 720x648 with 2 Axes>"
      ]
     },
     "metadata": {},
     "output_type": "display_data"
    }
   ],
   "source": [
    "heat_df = all_in_1[heat_features]\n",
    "\n",
    "plt.figure(figsize=(10, 9))\n",
    "plot = sns.heatmap(heat_df.corr()[['4/18/20']].sort_values(by=['4/18/20'],ascending=False),\n",
    "            cmap=\"YlGnBu\", linewidths=.5, annot=True, annot_kws={\"size\": 10})\n",
    "plot.set_title('Top Correlations between Confirmed cases of 4/18/20 with other Features');"
   ]
  },
  {
   "cell_type": "markdown",
   "metadata": {},
   "source": [
    "## Model"
   ]
  },
  {
   "cell_type": "code",
   "execution_count": 26,
   "metadata": {},
   "outputs": [],
   "source": [
    "features = ['4/15/20',\n",
    " '4/16/20',\n",
    " '4/17/20',\n",
    " 'dem_to_rep_ratio',\n",
    " 'public schools',\n",
    " 'FracMale2017',\n",
    " 'DiabetesPercentage',\n",
    " 'People_Tested',\n",
    " 'HeartDiseaseMortality',\n",
    " ]"
   ]
  },
  {
   "cell_type": "markdown",
   "metadata": {},
   "source": [
    "### 1. Simple Regressors (LinearRegression v.s. DecisionTree vs. KNN Regressor)"
   ]
  },
  {
   "cell_type": "markdown",
   "metadata": {},
   "source": [
    "#### Feature Augmentation Attempt using KNN Regressor"
   ]
  },
  {
   "cell_type": "code",
   "execution_count": 27,
   "metadata": {},
   "outputs": [],
   "source": [
    "def dist_metric(loc1, loc2):\n",
    "    lat1, lon1, lat2, lon2  = loc1[0], loc1[1], loc2[0], loc2[1]\n",
    "    p = 0.017453292519943295 # Pi / 180\n",
    "    a = 0.5 - np.cos((lat2 - lat1) * p) / 2 + np.cos(lat1 * p) * np.cos(lat2 * p) * \\\n",
    "    (1 - np.cos((lon2 - lon1) * p)) / 2\n",
    "    return 12742 * np.arcsin(a ** 2) # 12742 = 2 * R"
   ]
  },
  {
   "cell_type": "code",
   "execution_count": 28,
   "metadata": {},
   "outputs": [
    {
     "data": {
      "text/plain": [
       "KNeighborsRegressor(algorithm='auto', leaf_size=30,\n",
       "                    metric=<function dist_metric at 0x1201d9e60>,\n",
       "                    metric_params=None, n_jobs=None, n_neighbors=2, p=2,\n",
       "                    weights='distance')"
      ]
     },
     "execution_count": 28,
     "metadata": {},
     "output_type": "execute_result"
    }
   ],
   "source": [
    "X_KNN, y_KNN = data.loc[:, ['Lat_x', 'Long_']], data['4/18/20']\n",
    "\n",
    "neigh = KNeighborsRegressor(n_neighbors=2, weights = 'distance', metric = dist_metric)\n",
    "neigh.fit(X_KNN, y_KNN)"
   ]
  },
  {
   "cell_type": "code",
   "execution_count": 29,
   "metadata": {},
   "outputs": [],
   "source": [
    "# setting up a dictionary with {county_index: list of its K Nearest Neighbours} Pairings\n",
    "clusters = neigh.kneighbors()[1]\n",
    "neighbour_dict = {i: clusters[i] for i in X.index}"
   ]
  },
  {
   "cell_type": "code",
   "execution_count": 30,
   "metadata": {},
   "outputs": [],
   "source": [
    "# ref_pop is the poplation of the county being referenced to, neigh_pop is the population of one of its \n",
    "# neighbor counties counts, neigh_pops are np arrays, ref_pop is is an integer\n",
    "def normalize_by_pop(stat_mat, neigh_pops, ref_pop):\n",
    "    factors = [ref_pop/n_pop for n_pop in neigh_pops]\n",
    "    weighted_sums = stat_mat @ factors\n",
    "    return list(weighted_sums / len(neigh_pops))\n",
    " \n",
    "\n",
    "f = ['4/15/20','4/16/20','4/17/20']\n",
    "f_new = ['4/15/20_neigh_nor','4/16/20_neigh_nor','4/17/20_neigh_nor']\n",
    "\n",
    "new_feature_list = []\n",
    "\n",
    "for i in X.index:\n",
    "    neigh_id = neighbour_dict.get(i)\n",
    "\n",
    "    ref_pop = X.loc[i, 'PopulationEstimate2018']\n",
    "    neigh_pops = X.loc[neigh_id, 'PopulationEstimate2018']\n",
    "    stat_matrix = np.transpose(X.loc[neigh_id, f]) # a len(f) by num_neigh matrix\n",
    "    \n",
    "    new_feature_list.append(normalize_by_pop(stat_matrix, neigh_pops, ref_pop))\n",
    "\n",
    "new_feature_df = pd.DataFrame(np.array(new_feature_list), columns=f_new)\n",
    "\n",
    "X_new = pd.concat([X, new_feature_df], axis=1)"
   ]
  },
  {
   "cell_type": "markdown",
   "metadata": {},
   "source": [
    "#### Train-test Split"
   ]
  },
  {
   "cell_type": "code",
   "execution_count": 31,
   "metadata": {},
   "outputs": [],
   "source": [
    "X_train, X_test, y_train, y_test = train_test_split(X[features], y, test_size=0.1, random_state=42)\n",
    "\n",
    "X_train_aug, X_test_aug, y_train_aug, y_test_aug = train_test_split(X_new[features + f_new], y, test_size=0.1, random_state=42)\n"
   ]
  },
  {
   "cell_type": "markdown",
   "metadata": {},
   "source": [
    "#### Overall MSE of LinearRegressor and TreeRegresso"
   ]
  },
  {
   "cell_type": "code",
   "execution_count": 32,
   "metadata": {},
   "outputs": [
    {
     "name": "stdout",
     "output_type": "stream",
     "text": [
      "Linear mse: 56.02229299363057, Tree mse: 561.0859872611464\n",
      "Linear_KNN mse: 119.93949044585987, Tree_KNN mse: 328.45222929936307\n"
     ]
    }
   ],
   "source": [
    "linear_regr = LinearRegression(normalize=True)\n",
    "linear_regr.fit(X_train, y_train)\n",
    "\n",
    "tree_regr = DecisionTreeRegressor(max_depth=20, random_state=42)\n",
    "tree_regr.fit(X_train, y_train)\n",
    "\n",
    "linear_regr_KNN = LinearRegression(normalize=True)\n",
    "linear_regr_KNN.fit(X_train_aug, y_train_aug)\n",
    "\n",
    "tree_regr_KNN = DecisionTreeRegressor(max_depth=20, random_state=42)\n",
    "tree_regr_KNN.fit(X_train_aug, y_train_aug)\n",
    "\n",
    "\n",
    "linear_pred = np.round(np.maximum(0, linear_regr.predict(X_test)))\n",
    "linear_mse = mse(linear_pred, y_test)\n",
    "\n",
    "tree_pred = np.round(tree_regr.predict(X_test))\n",
    "tree_mse = mse(tree_pred, y_test)\n",
    "\n",
    "KNN_linear_pred = np.round(np.maximum(0, linear_regr_KNN.predict(X_test_aug)))\n",
    "KNN_linear_mse = mse(KNN_linear_pred, y_test_aug)\n",
    "\n",
    "KNN_tree_pred = np.round(tree_regr_KNN.predict(X_test_aug))\n",
    "KNN_tree_mse = mse(KNN_tree_pred, y_test_aug)\n",
    "\n",
    "\n",
    "print(f\"Linear mse: {linear_mse}, Tree mse: {tree_mse}\")\n",
    "print(f\"Linear_KNN mse: {KNN_linear_mse}, Tree_KNN mse: {KNN_tree_mse}\")"
   ]
  },
  {
   "cell_type": "markdown",
   "metadata": {},
   "source": [
    "- We can see that that the KNN Algorithm act as a mediator for the algorithms. It improves the Desion Tree Model quite significantly, by introducing noise, nuetralizing overfitting.\n",
    "- Our data, concluded from EDA, can be better modeled by a linear model. Thus, KNN adds noise to it."
   ]
  },
  {
   "cell_type": "code",
   "execution_count": 33,
   "metadata": {},
   "outputs": [
    {
     "data": {
      "image/png": "[encoded data removed]",
      "text/plain": [
       "<Figure size 1224x360 with 1 Axes>"
      ]
     },
     "metadata": {},
     "output_type": "display_data"
    }
   ],
   "source": [
    "df = pd.DataFrame([[\"linear regression\", linear_mse],\n",
    "                   ['regression tree', tree_mse],\n",
    "                   [\"linear regression (with KNN)\", KNN_linear_mse],\n",
    "                  [\"regression tree (with KNN)\", KNN_tree_mse]],\n",
    "                  columns = [\"model\", \"MSE\"])\n",
    "\n",
    "\n",
    "fig, ax = plt.subplots(figsize=(17, 5))\n",
    "\n",
    "sns.barplot(x=\"model\", y=\"MSE\", palette=\"Blues_d\", data=df)\n",
    "\n",
    "plt.xlabel('Model', fontsize = 15)\n",
    "plt.ylabel('MSE', fontsize = 15)\n",
    "plt.title('Model Performance', fontsize = 15)\n",
    "\n",
    "for p in ax.patches:\n",
    "    ax.annotate(format(p.get_height(), '.2f'), \n",
    "             (p.get_x() + p.get_width() / 2,\n",
    "              p.get_height()), \n",
    "             ha = 'center', \n",
    "             va = 'center', \n",
    "             xytext = (0, 10), \n",
    "             textcoords = 'offset points')"
   ]
  },
  {
   "cell_type": "markdown",
   "metadata": {},
   "source": [
    "#### Check the mse for prediction of counties with small/middle/large confirmed cases"
   ]
  },
  {
   "cell_type": "code",
   "execution_count": 34,
   "metadata": {},
   "outputs": [
    {
     "name": "stdout",
     "output_type": "stream",
     "text": [
      "Linear mse: 5.830985915492958, Tree mse: 0.14084507042253522\n",
      "Linear_KNN mse: 3.9859154929577465, Tree_KNN mse: 0.1267605633802817\n",
      "Linear mse: 16.00609756097561, Tree mse: 73.70731707317073\n",
      "Linear_KNN mse: 11.981707317073171, Tree_KNN mse: 72.6951219512195\n",
      "Linear mse: 184.20253164556962, Tree mse: 2077.0\n",
      "Linear_KNN mse: 448.26582278481015, Tree_KNN mse: 1154.4683544303798\n"
     ]
    },
    {
     "name": "stderr",
     "output_type": "stream",
     "text": [
      "/usr/local/lib/python3.7/site-packages/numpy/core/fromnumeric.py:61: FutureWarning: Series.nonzero() is deprecated and will be removed in a future version.Use Series.to_numpy().nonzero() instead\n",
      "  return bound(*args, **kwds)\n"
     ]
    }
   ],
   "source": [
    "per_25, per_75 = np.percentile(y_test, 25), np.percentile(y_test, 75)\n",
    "\n",
    "small_indices = np.argwhere(y_test < per_25).flatten()\n",
    "middle_indices = np.argwhere((y_test >= per_25) & (y_test < per_75)).flatten()\n",
    "big_indices = np.argwhere(y_test >= per_75).flatten()\n",
    "\n",
    "for indices in [small_indices, middle_indices, big_indices]:\n",
    "    a = y_test.to_numpy()[indices]\n",
    "    \n",
    "    #Linear\n",
    "    b = linear_pred[indices]\n",
    "    # Decision Tree\n",
    "    c = tree_pred[indices]\n",
    "    #Linear + KNN\n",
    "    d = KNN_linear_pred[indices]\n",
    "    # Decision Tree + KNN\n",
    "    e = KNN_tree_pred[indices]\n",
    "    \n",
    "    print(f\"Linear mse: {mse(a, b)}, Tree mse: {mse(a, c)}\") \n",
    "    print(f\"Linear_KNN mse: {mse(a, d)}, Tree_KNN mse: {mse(a, e)}\")"
   ]
  },
  {
   "cell_type": "markdown",
   "metadata": {},
   "source": [
    "- We can see the above tendency is more obvious data is bigger. This give a nice intuition for fine tuning the final model: applying KNN to the larger percentile of data might be benefitial."
   ]
  },
  {
   "cell_type": "code",
   "execution_count": 35,
   "metadata": {},
   "outputs": [
    {
     "data": {
      "image/png": "[encoded data removed]",
      "text/plain": [
       "<Figure size 1080x360 with 1 Axes>"
      ]
     },
     "metadata": {},
     "output_type": "display_data"
    }
   ],
   "source": [
    "df = pd.DataFrame([[\"linear regression\", \"0~25\", 5.830985915492958],\n",
    "                   [\"linear regression\", \"25~75\", 16.00609756097561],\n",
    "                   [\"linear regression\", \"75~100\", 184.20253164556962],\n",
    "                   \n",
    "                   ['regression tree', \"0~25\", 0.14084507042253522],\n",
    "                  ['regression tree', \"25~75\", 73.70731707317073],\n",
    "                  ['regression tree', \"75~100\", 2077.0],\n",
    "                   \n",
    "                   [\"linear regression (with KNN)\", \"0~25\", 3.9859154929577465],\n",
    "                   [\"linear regression (with KNN)\", \"25~75\", 11.981707317073171],\n",
    "                   [\"linear regression (with KNN)\", \"75~100\", 448.26582278481015],\n",
    "                   \n",
    "                   ['regression tree (with KNN)', \"0~25\", 0.1267605633802817],\n",
    "                  ['regression tree (with KNN)', \"25~75\", 72.6951219512195],\n",
    "                  ['regression tree (with KNN)', \"75~100\", 1154.4683544303798]\n",
    "                  ],\n",
    "                  columns = [\"Model\", \"percentile\", \"MSE\"])\n",
    "\n",
    "fig, ax = plt.subplots(figsize=(15, 5))\n",
    "ax.set(yscale=\"log\")\n",
    "sns.barplot(x = \"percentile\", y = \"MSE\", hue = \"Model\", palette=\"Blues_d\", data=df)\n",
    "\n",
    "plt.xlabel('Percentile', fontsize = 15)\n",
    "plt.ylabel('MSE', fontsize = 15)\n",
    "plt.title('Model Performance with respect to Distribution', fontsize = 15)\n",
    "\n",
    "for p in ax.patches:\n",
    "    ax.annotate(format(p.get_height(), '.2f'), \n",
    "             (p.get_x() + p.get_width() / 2,\n",
    "              p.get_height()), \n",
    "             ha = 'center', \n",
    "             va = 'center', \n",
    "             xytext = (0, 10), \n",
    "             textcoords = 'offset points')\n",
    "\n"
   ]
  },
  {
   "cell_type": "markdown",
   "metadata": {},
   "source": [
    "### 2. Final Regressor"
   ]
  },
  {
   "cell_type": "code",
   "execution_count": 36,
   "metadata": {},
   "outputs": [],
   "source": [
    "class finalRegressor(object):\n",
    "    def __init__(self, threshold=50, depth=11, forest=False, randstate=42):\n",
    "        self.thres = threshold\n",
    "        if forest:\n",
    "            self.tree_regr = RandomForestRegressor(n_estimators=50, max_depth=depth, random_state=randstate)\n",
    "        else:\n",
    "            self.tree_regr = DecisionTreeRegressor(max_depth=depth, random_state=randstate)\n",
    "        self.linear_regr = LinearRegression(normalize=True)\n",
    "    \n",
    "    def fit(self, X_train, y_train):\n",
    "        self.tree_regr.fit(X_train, y_train)\n",
    "        self.linear_regr.fit(X_train, y_train)\n",
    "        self.thres_val = np.percentile(y_train, self.thres)\n",
    "    \n",
    "    def predict(self, X_test):\n",
    "        self.linear_pred = np.maximum(self.linear_regr.predict(X_test), 0)\n",
    "        self.tree_pred = self.tree_regr.predict(X_test)\n",
    "        self.cond_vec = ((self.linear_pred + self.tree_pred) / 2) < self.thres_val\n",
    "        return np.round(self.tree_pred * self.cond_vec + self.linear_pred * ~self.cond_vec)\n"
   ]
  },
  {
   "cell_type": "markdown",
   "metadata": {},
   "source": [
    "##### Using test data to tune the max_depth for DecisionTree"
   ]
  },
  {
   "cell_type": "code",
   "execution_count": 37,
   "metadata": {},
   "outputs": [
    {
     "name": "stderr",
     "output_type": "stream",
     "text": [
      "/usr/local/lib/python3.7/site-packages/numpy/core/fromnumeric.py:61: FutureWarning: Series.nonzero() is deprecated and will be removed in a future version.Use Series.to_numpy().nonzero() instead\n",
      "  return bound(*args, **kwds)\n"
     ]
    }
   ],
   "source": [
    "depth_results = []\n",
    "small_indices = np.argwhere(y_test < 100).flatten()\n",
    "\n",
    "for depth in range(3, 30):\n",
    "    dt = DecisionTreeRegressor(max_depth=depth)\n",
    "    dt.fit(X_train, y_train)\n",
    "    a, b = dt.predict(X_test)[small_indices], y_test.to_numpy()[small_indices]\n",
    "    depth_results.append(mse(a, b))"
   ]
  },
  {
   "cell_type": "code",
   "execution_count": 38,
   "metadata": {},
   "outputs": [
    {
     "data": {
      "text/plain": [
       "11"
      ]
     },
     "execution_count": 38,
     "metadata": {},
     "output_type": "execute_result"
    }
   ],
   "source": [
    "optimal_max_depth = np.argmin(depth_results) + 3\n",
    "optimal_max_depth"
   ]
  },
  {
   "cell_type": "code",
   "execution_count": 39,
   "metadata": {},
   "outputs": [
    {
     "data": {
      "text/plain": [
       "(0.0, 500.0)"
      ]
     },
     "execution_count": 39,
     "metadata": {},
     "output_type": "execute_result"
    },
    {
     "data": {
      "image/png": "[encoded data removed]",
      "text/plain": [
       "<Figure size 720x504 with 1 Axes>"
      ]
     },
     "metadata": {},
     "output_type": "display_data"
    }
   ],
   "source": [
    "plt.figure(figsize=(10, 7))\n",
    "\n",
    "plt.plot(depth_results)\n",
    "\n",
    "plt.xlabel('depth', fontsize = 15)\n",
    "plt.ylabel('MSE', fontsize = 15)\n",
    "plt.title('Fine Tuning Depth', fontsize = 15)\n",
    "plt.ylim(0, 500)"
   ]
  },
  {
   "cell_type": "markdown",
   "metadata": {},
   "source": [
    "##### Using 5-fold Cross Validation to tune the best threshold of our final predictor"
   ]
  },
  {
   "cell_type": "code",
   "execution_count": 40,
   "metadata": {},
   "outputs": [],
   "source": [
    "kf = KFold(n_splits=5)\n",
    "best_thres, best_val = None, float('inf')\n",
    "\n",
    "for thres in range(20, 100):\n",
    "    cv_result = []\n",
    "    for train_index, test_index in kf.split(X_train):\n",
    "        final_regr = finalRegressor(thres)\n",
    "        final_regr.fit(X_train.iloc[train_index], y_train.iloc[train_index])\n",
    "        final_pred = final_regr.predict(X_train.iloc[test_index])\n",
    "        cv_result.append(mse(final_pred, y_train.iloc[test_index]))\n",
    "    if best_val > np.mean(cv_result):\n",
    "        best_val = np.mean(cv_result)\n",
    "        best_thres = thres"
   ]
  },
  {
   "cell_type": "code",
   "execution_count": 41,
   "metadata": {},
   "outputs": [
    {
     "name": "stdout",
     "output_type": "stream",
     "text": [
      "Our integrated model, after fine-tuning, achieves the MSE of 48.503184713375795 on testing set\n"
     ]
    }
   ],
   "source": [
    "final_predictor = finalRegressor(best_thres) \n",
    "final_predictor.fit(X_train, y_train)\n",
    "best_mse = mse(y_test, final_predictor.predict(X_test))\n",
    "print(\"Our integrated model, after fine-tuning, achieves the MSE of \" + str(best_mse) + \" on testing set\")"
   ]
  },
  {
   "cell_type": "markdown",
   "metadata": {},
   "source": [
    "================================================================================================================\n",
    "# END PROJECT"
   ]
  }
 ],
 "metadata": {
  "kernelspec": {
   "display_name": "Python 3",
   "language": "python",
   "name": "python3"
  },
  "language_info": {
   "codemirror_mode": {
    "name": "ipython",
    "version": 3
   },
   "file_extension": ".py",
   "mimetype": "text/x-python",
   "name": "python",
   "nbconvert_exporter": "python",
   "pygments_lexer": "ipython3",
   "version": "3.7.5"
  }
 },
 "nbformat": 4,
 "nbformat_minor": 4
}
